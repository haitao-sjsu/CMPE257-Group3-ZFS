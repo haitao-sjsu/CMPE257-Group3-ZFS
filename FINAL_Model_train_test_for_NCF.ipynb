{
  "cells": [
    {
      "cell_type": "markdown",
      "metadata": {
        "id": "_L07hDOEZvTf"
      },
      "source": [
        "# Load data & clean"
      ]
    },
    {
      "cell_type": "code",
      "execution_count": null,
      "metadata": {
        "id": "JHO1oKnZx5Pw",
        "colab": {
          "base_uri": "https://localhost:8080/"
        },
        "outputId": "5b3a522e-b122-43ca-ed08-6e843e39ef4f"
      },
      "outputs": [
        {
          "output_type": "stream",
          "name": "stdout",
          "text": [
            "Requirement already satisfied: tqdm in /usr/local/lib/python3.10/dist-packages (4.66.2)\n",
            "Requirement already satisfied: transformers in /usr/local/lib/python3.10/dist-packages (4.40.1)\n",
            "Requirement already satisfied: filelock in /usr/local/lib/python3.10/dist-packages (from transformers) (3.14.0)\n",
            "Requirement already satisfied: huggingface-hub<1.0,>=0.19.3 in /usr/local/lib/python3.10/dist-packages (from transformers) (0.20.3)\n",
            "Requirement already satisfied: numpy>=1.17 in /usr/local/lib/python3.10/dist-packages (from transformers) (1.25.2)\n",
            "Requirement already satisfied: packaging>=20.0 in /usr/local/lib/python3.10/dist-packages (from transformers) (24.0)\n",
            "Requirement already satisfied: pyyaml>=5.1 in /usr/local/lib/python3.10/dist-packages (from transformers) (6.0.1)\n",
            "Requirement already satisfied: regex!=2019.12.17 in /usr/local/lib/python3.10/dist-packages (from transformers) (2023.12.25)\n",
            "Requirement already satisfied: requests in /usr/local/lib/python3.10/dist-packages (from transformers) (2.31.0)\n",
            "Requirement already satisfied: tokenizers<0.20,>=0.19 in /usr/local/lib/python3.10/dist-packages (from transformers) (0.19.1)\n",
            "Requirement already satisfied: safetensors>=0.4.1 in /usr/local/lib/python3.10/dist-packages (from transformers) (0.4.3)\n",
            "Requirement already satisfied: tqdm>=4.27 in /usr/local/lib/python3.10/dist-packages (from transformers) (4.66.2)\n",
            "Requirement already satisfied: fsspec>=2023.5.0 in /usr/local/lib/python3.10/dist-packages (from huggingface-hub<1.0,>=0.19.3->transformers) (2023.6.0)\n",
            "Requirement already satisfied: typing-extensions>=3.7.4.3 in /usr/local/lib/python3.10/dist-packages (from huggingface-hub<1.0,>=0.19.3->transformers) (4.11.0)\n",
            "Requirement already satisfied: charset-normalizer<4,>=2 in /usr/local/lib/python3.10/dist-packages (from requests->transformers) (3.3.2)\n",
            "Requirement already satisfied: idna<4,>=2.5 in /usr/local/lib/python3.10/dist-packages (from requests->transformers) (3.7)\n",
            "Requirement already satisfied: urllib3<3,>=1.21.1 in /usr/local/lib/python3.10/dist-packages (from requests->transformers) (2.0.7)\n",
            "Requirement already satisfied: certifi>=2017.4.17 in /usr/local/lib/python3.10/dist-packages (from requests->transformers) (2024.2.2)\n",
            "Collecting LibRecommender\n",
            "  Downloading LibRecommender-1.4.0-cp310-cp310-manylinux_2_17_x86_64.manylinux2014_x86_64.whl (2.1 MB)\n",
            "\u001b[2K     \u001b[90m━━━━━━━━━━━━━━━━━━━━━━━━━━━━━━━━━━━━━━━━\u001b[0m \u001b[32m2.1/2.1 MB\u001b[0m \u001b[31m7.8 MB/s\u001b[0m eta \u001b[36m0:00:00\u001b[0m\n",
            "\u001b[?25hRequirement already satisfied: gensim>=4.0.0 in /usr/local/lib/python3.10/dist-packages (from LibRecommender) (4.3.2)\n",
            "Requirement already satisfied: tqdm in /usr/local/lib/python3.10/dist-packages (from LibRecommender) (4.66.2)\n",
            "Requirement already satisfied: numpy>=1.18.5 in /usr/local/lib/python3.10/dist-packages (from gensim>=4.0.0->LibRecommender) (1.25.2)\n",
            "Requirement already satisfied: scipy>=1.7.0 in /usr/local/lib/python3.10/dist-packages (from gensim>=4.0.0->LibRecommender) (1.11.4)\n",
            "Requirement already satisfied: smart-open>=1.8.1 in /usr/local/lib/python3.10/dist-packages (from gensim>=4.0.0->LibRecommender) (6.4.0)\n",
            "Installing collected packages: LibRecommender\n",
            "Successfully installed LibRecommender-1.4.0\n"
          ]
        }
      ],
      "source": [
        "!pip install tqdm\n",
        "!pip install transformers\n",
        "!pip install LibRecommender"
      ]
    },
    {
      "cell_type": "code",
      "execution_count": null,
      "metadata": {
        "id": "yuEBuuis_kQt"
      },
      "outputs": [],
      "source": [
        "#install necessary libraries\n",
        "import re\n",
        "import json\n",
        "import pandas as pd\n",
        "from tqdm import tqdm"
      ]
    },
    {
      "cell_type": "code",
      "execution_count": null,
      "metadata": {
        "id": "tnywyVriBVQO"
      },
      "outputs": [],
      "source": [
        "#load data and tranform to pandas dataframe\n",
        "path_ = '/content/OFFICIAL_CSV_Labeling_dataset_facebook-groups-scraper_raw_SVM_&_FEATURES.csv'\n",
        "\n",
        "df = pd.read_csv(path_)\n",
        "# df.head()"
      ]
    },
    {
      "cell_type": "markdown",
      "source": [
        "## Remove stop words and emojis"
      ],
      "metadata": {
        "id": "YtSdHxnsCXAh"
      }
    },
    {
      "cell_type": "code",
      "execution_count": null,
      "metadata": {
        "id": "pyiv2XIDX3I1"
      },
      "outputs": [],
      "source": [
        "#function to remove emojis from text\n",
        "def remove_emoji(string):\n",
        "    emoji_pattern = re.compile(\"[\"\n",
        "                           u\"\\U0001F600-\\U0001F64F\"  # emoticons\n",
        "                           u\"\\U0001F300-\\U0001F5FF\"  # symbols & pictographs\n",
        "                           u\"\\U0001F680-\\U0001F6FF\"  # transport & map symbols\n",
        "                           u\"\\U0001F1E0-\\U0001F1FF\"  # flags (iOS)\n",
        "                           u\"\\U00002702-\\U000027B0\"\n",
        "                           u\"\\U000024C2-\\U0001F251\"\n",
        "                           \"]+\", flags=re.UNICODE)\n",
        "    return emoji_pattern.sub(r'', string)"
      ]
    },
    {
      "cell_type": "code",
      "execution_count": null,
      "metadata": {
        "id": "odoPCU8-osSU"
      },
      "outputs": [],
      "source": [
        "#remove emojis\n",
        "df['inputs']=''\n",
        "for x in tqdm(range(len(df))):\n",
        "  df['inputs'][x] = remove_emoji(str(df['text'][x]) + '\\n' + str(df['title'][x]))"
      ]
    },
    {
      "cell_type": "code",
      "execution_count": null,
      "metadata": {
        "colab": {
          "base_uri": "https://localhost:8080/"
        },
        "id": "YyP-58RDDnMO",
        "outputId": "bca60db2-f814-4dfe-e26f-dd20c877f653"
      },
      "outputs": [
        {
          "output_type": "stream",
          "name": "stdout",
          "text": [
            "<class 'pandas.core.frame.DataFrame'>\n",
            "RangeIndex: 1000 entries, 0 to 999\n",
            "Data columns (total 26 columns):\n",
            " #   Column                             Non-Null Count  Dtype  \n",
            "---  ------                             --------------  -----  \n",
            " 0   Column1                            1000 non-null   int64  \n",
            " 1   Supply(Selling)_or_Demand(Buying)  1000 non-null   object \n",
            " 2   text                               937 non-null    object \n",
            " 3   title                              133 non-null    object \n",
            " 4   url                                1000 non-null   object \n",
            " 5   legacyId                           1000 non-null   float64\n",
            " 6   time                               1000 non-null   object \n",
            " 7   commentsCount                      1000 non-null   int64  \n",
            " 8   likesCount                         1000 non-null   int64  \n",
            " 9   sharesCount                        1000 non-null   int64  \n",
            " 10  topComments/0/text                 457 non-null    object \n",
            " 11  topComments/1/likesCount           189 non-null    float64\n",
            " 12  topComments/1/text                 189 non-null    object \n",
            " 13  user/id                            1000 non-null   object \n",
            " 14  user/name                          1000 non-null   object \n",
            " 15  inputs                             1000 non-null   object \n",
            " 16  token                              309 non-null    object \n",
            " 17  clean_tokens                       309 non-null    object \n",
            " 18  clean_text                         309 non-null    object \n",
            " 19  rent                               634 non-null    float64\n",
            " 20  location                           566 non-null    object \n",
            " 21  fromDate                           851 non-null    object \n",
            " 22  toDate                             454 non-null    object \n",
            " 23  bedrooms                           499 non-null    object \n",
            " 24  bathrooms                          416 non-null    object \n",
            " 25  amenities                          408 non-null    object \n",
            "dtypes: float64(3), int64(4), object(19)\n",
            "memory usage: 203.2+ KB\n"
          ]
        }
      ],
      "source": [
        "df.info()"
      ]
    },
    {
      "cell_type": "markdown",
      "metadata": {
        "id": "NnK-KACtKkyT"
      },
      "source": [
        "## Create Word Embeddings with BERT"
      ]
    },
    {
      "cell_type": "code",
      "execution_count": null,
      "metadata": {
        "id": "WM0IuoxxKiLl"
      },
      "outputs": [],
      "source": [
        "import torch\n",
        "import random\n",
        "import numpy as np\n",
        "from transformers import BertTokenizer, BertModel\n",
        "from sklearn.metrics.pairwise import cosine_similarity\n",
        "from tensorflow.keras.preprocessing.sequence import pad_sequences\n",
        "\n",
        "import nltk\n",
        "from nltk.corpus import stopwords"
      ]
    },
    {
      "cell_type": "code",
      "execution_count": null,
      "metadata": {
        "id": "3_zhGj7VKwO1",
        "colab": {
          "base_uri": "https://localhost:8080/",
          "height": 393,
          "referenced_widgets": [
            "9af1e68eb4c6429aa058e61e2448c87f",
            "01bf3be924994b038347ee8df935953c",
            "bdc1616621d1401591a95c3e91e0bc0e",
            "054248b15b28467d8cc648b87793b0c4",
            "0fdf6aa0e316425487ba9e79e5028e0d",
            "93e3800269da4fb1b367ac1d3553f8ba",
            "c5eb626fd9a049979066580623d4e0fc",
            "1c4128ba2d8a4a56b2111d4dd49a7d6b",
            "6262b629efbf4678ac13812f0640f872",
            "b008de4bba9442c0ac24705b3e0c70e3",
            "891e31e6b2fd413d8d3e9ffd82f19f81",
            "37ce74fae14e4520a58b8e8f5f5914ba",
            "98886e99f9334434a786600e8b8bdbe5",
            "8cf68487c4f644e9a3b7c540d2a353b3",
            "ea3ed30105de4a918a725b004b56705f",
            "1173fb67fd9e4615bfe49bd14df169f6",
            "41d99dfd5dfb4d4ea7ea2aff0302e465",
            "0a03cf684742481c891570229e1fe14c",
            "3a480303dbb146bbbfa95f4b6faa18ae",
            "82680fa77de74e9790f699b431099782",
            "2817c2e9b98a479eabb48b7c0f17f13b",
            "13f721be345d4490a2a047472e634250",
            "998698c1d0f8417b8e045c80507e21aa",
            "a2694a4839854b0dbd79f2727f454b58",
            "014aeb2f22e248979297b7d46844b4da",
            "8c462fcca7ed4111a4738f940c679371",
            "42541b6f63424326952eb195f58a6818",
            "ed51a04c525b44eabdde0e7fb3faee0f",
            "64474d58e919475bb5d50b37f34a95ef",
            "ed804b8d3f684f4f8664a44ad9b31390",
            "c9bbbc6554bf4794afaec9fd7a30e871",
            "99b02f492fe14fb3a93fdad54f236200",
            "5df57a9a30834c959ffd8d1e0324bdd2",
            "fedc95f8e706427bbff6c4ebff0008b3",
            "7125056383164395b340ff55684faebf",
            "672bd2d4ef7d462fbf337038e41ffb43",
            "601cc518c09441f38d930e1499347ddd",
            "9b6c54310640422498654c2a62578ae9",
            "b99babaffd824ee4baf7b9e3dc91f781",
            "315db456e08849f995f67f981da12572",
            "14bd2f6121094f65bd9fc5d1c4adf245",
            "2528766218b849f8a156ec9cfad60dba",
            "25523cae348546d7a22a16889612810f",
            "878e6cf686d3407e8bdbfb27bba5bccf",
            "1114c86b338441c28bf9d4859dae0890",
            "8983902a7e824c7eb8005eea613d1602",
            "ea3a601309654a4da6efa0157a7d02c8",
            "e9c64082f4b54c92a57c8e11a2e42547",
            "43c8e96dda4544a1a39c4890ede226b4",
            "f925b92431ec46a5b824ea76a5df68a5",
            "ac6534e4015d49c2b2eb9d24695e16d8",
            "f1b6b5ff7bae437e84f2533b4683d835",
            "2864c2b43ba543429d84c159e9a16d2f",
            "178994e217cf4663969b32086b134ab4",
            "ee950280549546fdaf9c966571361ce2"
          ]
        },
        "outputId": "089677fc-cbe5-4c38-ea45-286a1dcc9d8c"
      },
      "outputs": [
        {
          "output_type": "stream",
          "name": "stderr",
          "text": [
            "/usr/local/lib/python3.10/dist-packages/huggingface_hub/utils/_token.py:88: UserWarning: \n",
            "The secret `HF_TOKEN` does not exist in your Colab secrets.\n",
            "To authenticate with the Hugging Face Hub, create a token in your settings tab (https://huggingface.co/settings/tokens), set it as secret in your Google Colab and restart your session.\n",
            "You will be able to reuse this secret in all of your notebooks.\n",
            "Please note that authentication is recommended but still optional to access public models or datasets.\n",
            "  warnings.warn(\n"
          ]
        },
        {
          "output_type": "display_data",
          "data": {
            "text/plain": [
              "tokenizer_config.json:   0%|          | 0.00/48.0 [00:00<?, ?B/s]"
            ],
            "application/vnd.jupyter.widget-view+json": {
              "version_major": 2,
              "version_minor": 0,
              "model_id": "9af1e68eb4c6429aa058e61e2448c87f"
            }
          },
          "metadata": {}
        },
        {
          "output_type": "display_data",
          "data": {
            "text/plain": [
              "vocab.txt:   0%|          | 0.00/232k [00:00<?, ?B/s]"
            ],
            "application/vnd.jupyter.widget-view+json": {
              "version_major": 2,
              "version_minor": 0,
              "model_id": "37ce74fae14e4520a58b8e8f5f5914ba"
            }
          },
          "metadata": {}
        },
        {
          "output_type": "display_data",
          "data": {
            "text/plain": [
              "tokenizer.json:   0%|          | 0.00/466k [00:00<?, ?B/s]"
            ],
            "application/vnd.jupyter.widget-view+json": {
              "version_major": 2,
              "version_minor": 0,
              "model_id": "998698c1d0f8417b8e045c80507e21aa"
            }
          },
          "metadata": {}
        },
        {
          "output_type": "display_data",
          "data": {
            "text/plain": [
              "config.json:   0%|          | 0.00/570 [00:00<?, ?B/s]"
            ],
            "application/vnd.jupyter.widget-view+json": {
              "version_major": 2,
              "version_minor": 0,
              "model_id": "fedc95f8e706427bbff6c4ebff0008b3"
            }
          },
          "metadata": {}
        },
        {
          "output_type": "display_data",
          "data": {
            "text/plain": [
              "model.safetensors:   0%|          | 0.00/440M [00:00<?, ?B/s]"
            ],
            "application/vnd.jupyter.widget-view+json": {
              "version_major": 2,
              "version_minor": 0,
              "model_id": "1114c86b338441c28bf9d4859dae0890"
            }
          },
          "metadata": {}
        },
        {
          "output_type": "stream",
          "name": "stderr",
          "text": [
            "[nltk_data] Downloading package punkt to /root/nltk_data...\n",
            "[nltk_data]   Unzipping tokenizers/punkt.zip.\n",
            "[nltk_data] Downloading package stopwords to /root/nltk_data...\n",
            "[nltk_data]   Unzipping corpora/stopwords.zip.\n"
          ]
        },
        {
          "output_type": "execute_result",
          "data": {
            "text/plain": [
              "True"
            ]
          },
          "metadata": {},
          "execution_count": 9
        }
      ],
      "source": [
        "# Set a random seed\n",
        "random_seed = 42\n",
        "random.seed(random_seed)\n",
        "\n",
        "# Set a random seed for PyTorch (for GPU as well)\n",
        "torch.manual_seed(random_seed)\n",
        "if torch.cuda.is_available():\n",
        "    torch.cuda.manual_seed_all(random_seed)\n",
        "\n",
        "# Load BERT tokenizer and model\n",
        "tokenizer = BertTokenizer.from_pretrained('bert-base-uncased')\n",
        "model = BertModel.from_pretrained('bert-base-uncased')\n",
        "\n",
        "# Download NLTK resources\n",
        "nltk.download('punkt')\n",
        "nltk.download('stopwords')"
      ]
    },
    {
      "cell_type": "code",
      "execution_count": null,
      "metadata": {
        "colab": {
          "base_uri": "https://localhost:8080/"
        },
        "id": "-ngAbqFUJCjg",
        "outputId": "1c4be942-6692-4226-8421-bf3c62babdc8"
      },
      "outputs": [
        {
          "output_type": "stream",
          "name": "stderr",
          "text": [
            "100%|██████████| 1000/1000 [40:38<00:00,  2.44s/it]\n"
          ]
        }
      ],
      "source": [
        "# Input text\n",
        "word_embeddings_inputs_list = []\n",
        "\n",
        "# Get English stopwords\n",
        "stop_words = set(stopwords.words('english'))\n",
        "for x in tqdm(range(len(df))):\n",
        "  text = df['inputs'][x]\n",
        "\n",
        "  # Tokenize text\n",
        "  tokenized_text = tokenizer.tokenize(text)\n",
        "\n",
        "  # Filter out stop words\n",
        "  filtered_tokens = [token for token in tokenized_text if token.lower() not in stop_words]\n",
        "\n",
        "  # Reconstruct as string text\n",
        "  cleaned_text = ' '.join(filtered_tokens)\n",
        "\n",
        "  # Re-Tokenize and encode text with padding and truncation\n",
        "  inputs = tokenizer(cleaned_text, return_tensors='pt', padding='max_length', truncation=True)\n",
        "\n",
        "  # Feed input to BERT model to obtain embeddings\n",
        "  with torch.no_grad():\n",
        "      outputs = model(**inputs)[0].numpy()\n",
        "      outputs = np.mean(outputs, axis=1)\n",
        "      outputs = outputs.flatten()\n",
        "\n",
        "  # Extract word embeddings\n",
        "  word_embeddings_inputs_list.append(outputs)"
      ]
    },
    {
      "cell_type": "markdown",
      "metadata": {
        "id": "D0dW2HxntWzI"
      },
      "source": [
        "# SVM\n",
        "In this method we classify a post as supply or demand by using Bert Embeddings and using SVM classification model"
      ]
    },
    {
      "cell_type": "code",
      "execution_count": null,
      "metadata": {
        "id": "Mi3w9B-CcSmL"
      },
      "outputs": [],
      "source": [
        "from sklearn.svm import SVC\n",
        "from sklearn.model_selection import train_test_split\n",
        "\n",
        "import seaborn as sns\n",
        "from sklearn.metrics import confusion_matrix\n",
        "\n",
        "from sklearn import svm\n",
        "from sklearn.metrics import accuracy_score, precision_score, confusion_matrix, f1_score"
      ]
    },
    {
      "cell_type": "code",
      "execution_count": null,
      "metadata": {
        "id": "MUAfJ1P-wGia"
      },
      "outputs": [],
      "source": [
        "df['Supply(Selling)_or_Demand(Buying)'].unique()\n",
        "X = word_embeddings_inputs_list[:310]\n",
        "y = df.loc[:, ['Supply(Selling)_or_Demand(Buying)']][:310]\n",
        "y = y.values.ravel()"
      ]
    },
    {
      "cell_type": "code",
      "execution_count": null,
      "metadata": {
        "id": "cUHOyhpzdf8U"
      },
      "outputs": [],
      "source": [
        "X_train, X_test, y_train, y_test = train_test_split(\n",
        "    X, y, test_size=0.10, random_state=0)\n",
        "\n",
        "train_indices, test_indices = train_test_split(range(len(X)), test_size=0.10, random_state=0)"
      ]
    },
    {
      "cell_type": "code",
      "execution_count": null,
      "metadata": {
        "id": "wyAzFQuKckWF"
      },
      "outputs": [],
      "source": [
        "# Classifier - Algorithm - SVM\n",
        "\n",
        "# fit the training dataset on the classifier\n",
        "SVM = svm.SVC(C=1.0, kernel='linear', decision_function_shape='ovr')\n",
        "SVM.fit(X_train,y_train)\n",
        "\n",
        "# predict the labels on validation dataset\n",
        "predictions_SVM = SVM.predict(X_test)\n",
        "\n",
        "# Create a DataFrame containing the test data features and the predicted labels\n",
        "result_df = pd.DataFrame(data=test_indices)\n",
        "result_df['Predicted_Labels'] = predictions_SVM\n",
        "\n",
        "# Print the DataFrame\n",
        "# print(result_df)"
      ]
    },
    {
      "cell_type": "code",
      "execution_count": null,
      "metadata": {
        "colab": {
          "base_uri": "https://localhost:8080/"
        },
        "id": "jp96MxXoJLg0",
        "outputId": "016994bc-61a0-4d96-f65c-38105a6041c8"
      },
      "outputs": [
        {
          "output_type": "stream",
          "name": "stdout",
          "text": [
            "SVM Accuracy Score ->  90.32258064516128\n",
            "SVM Precision Score ->  [100.          92.30769231  50.        ]\n",
            "SVM F1 Score ->  [66.66666667 96.         66.66666667]\n"
          ]
        }
      ],
      "source": [
        "# Use accuracy_score function to get the accuracy\n",
        "print(\"SVM Accuracy Score -> \",accuracy_score(predictions_SVM, y_test)*100)\n",
        "# Use precision function to get the precision\n",
        "print(\"SVM Precision Score -> \",precision_score(predictions_SVM, y_test, average=None)*100)\n",
        "# Use F1 function to get the f1 score\n",
        "print(\"SVM F1 Score -> \",f1_score(predictions_SVM, y_test, average=None)*100)"
      ]
    },
    {
      "cell_type": "code",
      "execution_count": null,
      "metadata": {
        "colab": {
          "base_uri": "https://localhost:8080/",
          "height": 472
        },
        "id": "g08Vhq7RU8Bf",
        "outputId": "c2cdc170-d089-4804-c7a9-fcb9af0dec53"
      },
      "outputs": [
        {
          "output_type": "display_data",
          "data": {
            "text/plain": [
              "<Figure size 640x480 with 2 Axes>"
            ],
            "image/png": "[encoded data removed]"
          },
          "metadata": {}
        }
      ],
      "source": [
        "# Visualize with Confusion Matrix\n",
        "cm = confusion_matrix(y_test, predictions_SVM)\n",
        "cm\n",
        "\n",
        "labels = ['Supply', 'Demand', 'Unknown']\n",
        "sns.heatmap(cm, annot=True, cmap='Blues', fmt='d', xticklabels=labels, yticklabels=labels)\n",
        "plt.xlabel('Predicted')\n",
        "plt.ylabel('Expected')\n",
        "plt.title('SVM Confusion Matrix')\n",
        "plt.show()"
      ]
    },
    {
      "cell_type": "code",
      "execution_count": null,
      "metadata": {
        "id": "0chkilarZfc3"
      },
      "outputs": [],
      "source": [
        "# Now need to apply svm to everything else\n",
        "\n",
        "#load data and tranform to pandas dataframe\n",
        "path_unlabeled = '/content/OFFICIAL_Labeling_dataset_facebook-groups-scraper_raw_UNLABELED.csv'\n",
        "df_unlabeled = pd.read_csv(path_unlabeled)\n",
        "\n",
        "#remove emojis\n",
        "df_unlabeled['inputs']=''\n",
        "for x in tqdm(range(len(df_unlabeled))):\n",
        "  df_unlabeled['inputs'][x] = remove_emoji(str(df_unlabeled['text'][x]) + '\\n' + str(df_unlabeled['title'][x]))[:512]\n",
        "df_unlabeled.info()\n",
        "\n",
        "# Gather Word Embeddings\n",
        "word_embeddings_inputs_list_unlabeled = []\n",
        "for x in tqdm(range(len(df_unlabeled))):\n",
        "  text_unlabeled = df_unlabeled['inputs'][x]\n",
        "  # Tokenize and encode text\n",
        "  inputs_unlabeled = tokenizer(text_unlabeled, return_tensors='pt')\n",
        "  # Feed input to BERT model to obtain embeddings\n",
        "  with torch.no_grad():\n",
        "      outputs_unlabeled = model(**inputs_unlabeled)[0].numpy()\n",
        "      outputs_unlabeled = np.mean(outputs_unlabeled, axis=1)\n",
        "      outputs_unlabeled = outputs_unlabeled.flatten()\n",
        "  # Extract word embeddings\n",
        "  word_embeddings_inputs_list_unlabeled.append(outputs_unlabeled)\n",
        "\n",
        "# Train test data\n",
        "X_unlabeled = word_embeddings_inputs_list_unlabeled\n",
        "y_unlabeled = df_unlabeled.loc[:, ['Supply(Selling)_or_Demand(Buying)']]\n",
        "y_unlabeled = y_unlabeled.values.ravel()\n",
        "\n",
        "indices_unlabeled = range(len(X_unlabeled))\n",
        "\n",
        "predictions_SVM_unlabeled = SVM.predict(X_unlabeled)\n",
        "# Create a DataFrame containing the test data features and the predicted labels\n",
        "result_df_unlabeled = pd.DataFrame(data=df_unlabeled['inputs'])\n",
        "result_df_unlabeled['Predicted_Labels'] = predictions_SVM_unlabeled\n",
        "df_unlabeled['Supply(Selling)_or_Demand(Buying)'] = result_df_unlabeled['Predicted_Labels']"
      ]
    },
    {
      "cell_type": "code",
      "execution_count": null,
      "metadata": {
        "id": "dO4MUVQApw1k"
      },
      "outputs": [],
      "source": [
        "# Create a DataFrame containing the test data features and the predicted labels\n",
        "result_df_unlabeled = pd.DataFrame(data=df_unlabeled['inputs'])\n",
        "result_df_unlabeled['Predicted_Labels'] = predictions_SVM_unlabeled\n",
        "df_unlabeled['Supply(Selling)_or_Demand(Buying)'] = result_df_unlabeled['Predicted_Labels']"
      ]
    },
    {
      "cell_type": "code",
      "execution_count": null,
      "metadata": {
        "id": "Ink9kDI_rEGT"
      },
      "outputs": [],
      "source": [
        "final_supply_demand_combined_df = pd.concat([df, df_unlabeled])\n",
        "final_supply_demand_combined_df = final_supply_demand_combined_df.reset_index(drop=True)\n",
        "final_supply_demand_combined_df.info()"
      ]
    },
    {
      "cell_type": "code",
      "source": [
        "# Visualize Data\n",
        "import matplotlib.pyplot as plt\n",
        "\n",
        "# Count the occurrences of each unique value in the 'Category' column\n",
        "classify_counts = df['Supply(Selling)_or_Demand(Buying)'].value_counts()\n",
        "\n",
        "# Create a bar plot\n",
        "classify_counts.plot(kind='bar')\n",
        "\n",
        "# Add labels and title\n",
        "plt.xlabel('Category')\n",
        "plt.ylabel('Count')\n",
        "plt.title('Count of Supply vs Demand')\n",
        "\n",
        "# Display the bar chart\n",
        "plt.show()"
      ],
      "metadata": {
        "colab": {
          "base_uri": "https://localhost:8080/",
          "height": 522
        },
        "id": "NbatvO8tEcD9",
        "outputId": "d0bac1d0-df7d-496d-81db-39b4d6390bff"
      },
      "execution_count": null,
      "outputs": [
        {
          "output_type": "display_data",
          "data": {
            "text/plain": [
              "<Figure size 640x480 with 1 Axes>"
            ],
            "image/png": "[encoded data removed]"
          },
          "metadata": {}
        }
      ]
    },
    {
      "cell_type": "code",
      "execution_count": null,
      "metadata": {
        "id": "HGLfXRAns065"
      },
      "outputs": [],
      "source": [
        "final_supply_demand_combined_df.to_csv('OFFICIAL_Labeling_dataset_facebook-groups-scraper_raw_SVM_PREDICTIONS.csv', index=True)"
      ]
    },
    {
      "cell_type": "markdown",
      "metadata": {
        "id": "uF1vJijkv3PF"
      },
      "source": [
        "# Recommendations"
      ]
    },
    {
      "cell_type": "markdown",
      "metadata": {
        "id": "KMNDD1ISoRq2"
      },
      "source": [
        "## Data prep\n"
      ]
    },
    {
      "cell_type": "code",
      "execution_count": 52,
      "metadata": {
        "colab": {
          "base_uri": "https://localhost:8080/"
        },
        "id": "LGgCw9sowAjv",
        "outputId": "ddedb305-b491-4603-858d-7f7ab0858db8"
      },
      "outputs": [
        {
          "output_type": "stream",
          "name": "stdout",
          "text": [
            "1000\n"
          ]
        }
      ],
      "source": [
        "# Combine word embedding\n",
        "# concatenated_word_embeddings_input_list = word_embeddings_inputs_list + word_embeddings_inputs_list_unlabeled\n",
        "concatenated_word_embeddings_input_list = word_embeddings_inputs_list\n",
        "print(len(concatenated_word_embeddings_input_list))"
      ]
    },
    {
      "cell_type": "code",
      "execution_count": 53,
      "metadata": {
        "colab": {
          "base_uri": "https://localhost:8080/"
        },
        "id": "b9YIicdSDxtU",
        "outputId": "6249843a-e8db-4d70-ab37-2e4231cf3dbf"
      },
      "outputs": [
        {
          "output_type": "stream",
          "name": "stderr",
          "text": [
            "100%|██████████| 1000/1000 [00:20<00:00, 47.96it/s]\n"
          ]
        }
      ],
      "source": [
        "#seperate only supply listings & embeddings\n",
        "columns = ['Column1', 'Supply(Selling)_or_Demand(Buying)', 'text', 'title', 'url',\n",
        "       'legacyId', 'time', 'commentsCount', 'likesCount', 'sharesCount',\n",
        "       'topComments/0/text', 'topComments/1/likesCount', 'topComments/1/text',\n",
        "       'user/id', 'user/name', 'inputs', 'token', 'clean_tokens', 'clean_text',\n",
        "       'rent', 'location', 'fromDate', 'toDate', 'bedrooms', 'bathrooms',\n",
        "       'amenities']\n",
        "\n",
        "df_supply_only = pd.DataFrame(columns=columns, data=[])\n",
        "df_demand_only = pd.DataFrame(columns=columns, data=[])\n",
        "\n",
        "concatenated_word_embeddings_input_list__supply_only = {\"Index\":[], \"Embeddings\":[]}\n",
        "concatenated_word_embeddings_input_list__demand_only = {\"Index\":[], \"Embeddings\":[]}\n",
        "\n",
        "label = \"\"\n",
        "count = 0\n",
        "\n",
        "for x in tqdm(range(len(df))):\n",
        "  label = df['Supply(Selling)_or_Demand(Buying)'].loc[x]\n",
        "  if label == \"Supply\":\n",
        "    df_supply_only.loc[x] = df.loc[x]\n",
        "    concatenated_word_embeddings_input_list__supply_only['Index'].append(count)\n",
        "    concatenated_word_embeddings_input_list__supply_only['Embeddings'].append(concatenated_word_embeddings_input_list[x])\n",
        "  elif label == \"Demand\":\n",
        "    df_demand_only.loc[x] = df.loc[x]\n",
        "    concatenated_word_embeddings_input_list__demand_only['Index'].append(count)\n",
        "    concatenated_word_embeddings_input_list__demand_only['Embeddings'].append(concatenated_word_embeddings_input_list[x])\n",
        "  count += 1\n",
        "\n"
      ]
    },
    {
      "cell_type": "code",
      "execution_count": 54,
      "metadata": {
        "colab": {
          "base_uri": "https://localhost:8080/"
        },
        "id": "oB8YnPQhc4hV",
        "outputId": "82f13c41-663f-4a7f-9220-9324b742dfa0"
      },
      "outputs": [
        {
          "output_type": "stream",
          "name": "stdout",
          "text": [
            "length of demand embeddings: 2\n",
            "length of supply embeddings: 2\n"
          ]
        }
      ],
      "source": [
        "print(f'length of demand embeddings: {len(concatenated_word_embeddings_input_list__demand_only)}')\n",
        "print(f'length of supply embeddings: {len(concatenated_word_embeddings_input_list__supply_only)}')"
      ]
    },
    {
      "cell_type": "markdown",
      "metadata": {
        "id": "ASA5lQ8o5S3d"
      },
      "source": [
        "## Using NCF"
      ]
    },
    {
      "cell_type": "code",
      "execution_count": 61,
      "metadata": {
        "id": "NXLl4SCwrS3K",
        "colab": {
          "base_uri": "https://localhost:8080/"
        },
        "outputId": "df97c7ca-4ab4-4e5a-dc33-4d3b5a15b628"
      },
      "outputs": [
        {
          "output_type": "stream",
          "name": "stderr",
          "text": [
            "WARNING:tensorflow:From /usr/local/lib/python3.10/dist-packages/tensorflow/python/compat/v2_compat.py:108: disable_resource_variables (from tensorflow.python.ops.variable_scope) is deprecated and will be removed in a future version.\n",
            "Instructions for updating:\n",
            "non-resource variables are not supported in the long term\n"
          ]
        }
      ],
      "source": [
        "from datetime import datetime\n",
        "from libreco.algorithms import NCF\n",
        "from libreco.evaluation import evaluate\n",
        "from libreco.data import random_split, DatasetPure\n",
        "from sklearn.metrics.pairwise import cosine_similarity"
      ]
    },
    {
      "cell_type": "code",
      "execution_count": 62,
      "metadata": {
        "colab": {
          "base_uri": "https://localhost:8080/"
        },
        "id": "pKjzJg7kK9wV",
        "outputId": "51d192d4-3523-494e-bb55-a6b9f17d5035"
      },
      "outputs": [
        {
          "output_type": "stream",
          "name": "stdout",
          "text": [
            "Matrix:  [[0.8691945  0.8539269  0.83642197 ... 0.85505503 0.8570573  0.8507007 ]\n",
            " [0.8315415  0.77875054 0.7967556  ... 0.86676997 0.8921507  0.8282633 ]\n",
            " [0.90948915 0.8484014  0.83388853 ... 0.89735776 0.93552953 0.8895369 ]\n",
            " ...\n",
            " [0.32724398 0.31273118 0.3320089  ... 0.40443704 0.41629395 0.3607334 ]\n",
            " [0.91190237 0.8846235  0.8580936  ... 0.9137734  0.934332   0.90964174]\n",
            " [0.90301186 0.87021786 0.8536538  ... 0.91061187 0.9133531  0.8904521 ]]\n",
            "\n",
            "Shape:  (664, 281)\n"
          ]
        }
      ],
      "source": [
        "# Calculate cosine similarity\n",
        "cosine_sim_matrix_ncf = cosine_similarity(concatenated_word_embeddings_input_list__supply_only['Embeddings'], concatenated_word_embeddings_input_list__demand_only['Embeddings'])\n",
        "\n",
        "print(\"Matrix: \", cosine_sim_matrix_ncf)\n",
        "print(\"\\nShape: \" , cosine_sim_matrix_ncf.shape)"
      ]
    },
    {
      "cell_type": "code",
      "execution_count": 63,
      "metadata": {
        "id": "w5CZMiCPZKx5"
      },
      "outputs": [],
      "source": [
        "# Convert matrix to DataFrame\n",
        "df_matrix = pd.DataFrame(cosine_sim_matrix_ncf)\n",
        "# print(df_matrix)"
      ]
    },
    {
      "cell_type": "code",
      "execution_count": 64,
      "metadata": {
        "colab": {
          "base_uri": "https://localhost:8080/",
          "height": 350
        },
        "id": "isGHcMtcvM4y",
        "outputId": "efb4f2b5-7582-4224-f747-ba822fa9c37a"
      },
      "outputs": [
        {
          "output_type": "execute_result",
          "data": {
            "text/plain": [
              "              0           1           2           3           4           5    \\\n",
              "count  664.000000  664.000000  664.000000  664.000000  664.000000  664.000000   \n",
              "mean     0.882988    0.851784    0.850596    0.865426    0.827285    0.871752   \n",
              "std      0.066937    0.068933    0.067135    0.063132    0.075302    0.071434   \n",
              "min      0.327244    0.312731    0.332009    0.371674    0.238370    0.273608   \n",
              "25%      0.868440    0.833835    0.832645    0.851942    0.805154    0.862102   \n",
              "50%      0.899027    0.864399    0.861258    0.878589    0.841606    0.890350   \n",
              "75%      0.918668    0.891124    0.890722    0.900315    0.873124    0.908259   \n",
              "max      0.959838    0.937265    0.934112    0.947744    0.944812    0.936499   \n",
              "\n",
              "              6           7           8           9    ...         271  \\\n",
              "count  664.000000  664.000000  664.000000  664.000000  ...  664.000000   \n",
              "mean     0.835645    0.882708    0.868726    0.852489  ...    0.805749   \n",
              "std      0.067120    0.064254    0.068621    0.066931  ...    0.070872   \n",
              "min      0.294695    0.339833    0.297393    0.288221  ...    0.274388   \n",
              "25%      0.821700    0.874012    0.860281    0.843503  ...    0.785028   \n",
              "50%      0.850681    0.896994    0.886092    0.868596  ...    0.816253   \n",
              "75%      0.871905    0.916455    0.904043    0.885051  ...    0.847714   \n",
              "max      0.917001    0.944820    0.938470    0.921623  ...    0.927635   \n",
              "\n",
              "              272         273         274         275         276         277  \\\n",
              "count  664.000000  664.000000  664.000000  664.000000  664.000000  664.000000   \n",
              "mean     0.854815    0.816479    0.881976    0.830085    0.872977    0.893391   \n",
              "std      0.069103    0.073709    0.067996    0.064389    0.070295    0.056799   \n",
              "min      0.268090    0.257934    0.331316    0.346129    0.262466    0.430742   \n",
              "25%      0.847733    0.790503    0.868662    0.805523    0.865172    0.886982   \n",
              "50%      0.870345    0.828278    0.897708    0.839315    0.891247    0.905182   \n",
              "75%      0.890444    0.859526    0.919357    0.870178    0.906935    0.923242   \n",
              "max      0.944830    0.922969    0.954048    0.942342    0.944092    0.957022   \n",
              "\n",
              "              278         279         280  \n",
              "count  664.000000  664.000000  664.000000  \n",
              "mean     0.891041    0.904239    0.880487  \n",
              "std      0.058497    0.057200    0.064354  \n",
              "min      0.404437    0.416294    0.360733  \n",
              "25%      0.885922    0.902674    0.870473  \n",
              "50%      0.904392    0.918276    0.894428  \n",
              "75%      0.920026    0.932369    0.914795  \n",
              "max      0.953991    0.969614    0.956046  \n",
              "\n",
              "[8 rows x 281 columns]"
            ],
            "text/html": [
              "\n",
              "  <div id=\"df-4fb6f010-78a1-4769-804a-7979375ddbab\" class=\"colab-df-container\">\n",
              "    <div>\n",
              "<style scoped>\n",
              "    .dataframe tbody tr th:only-of-type {\n",
              "        vertical-align: middle;\n",
              "    }\n",
              "\n",
              "    .dataframe tbody tr th {\n",
              "        vertical-align: top;\n",
              "    }\n",
              "\n",
              "    .dataframe thead th {\n",
              "        text-align: right;\n",
              "    }\n",
              "</style>\n",
              "<table border=\"1\" class=\"dataframe\">\n",
              "  <thead>\n",
              "    <tr style=\"text-align: right;\">\n",
              "      <th></th>\n",
              "      <th>0</th>\n",
              "      <th>1</th>\n",
              "      <th>2</th>\n",
              "      <th>3</th>\n",
              "      <th>4</th>\n",
              "      <th>5</th>\n",
              "      <th>6</th>\n",
              "      <th>7</th>\n",
              "      <th>8</th>\n",
              "      <th>9</th>\n",
              "      <th>...</th>\n",
              "      <th>271</th>\n",
              "      <th>272</th>\n",
              "      <th>273</th>\n",
              "      <th>274</th>\n",
              "      <th>275</th>\n",
              "      <th>276</th>\n",
              "      <th>277</th>\n",
              "      <th>278</th>\n",
              "      <th>279</th>\n",
              "      <th>280</th>\n",
              "    </tr>\n",
              "  </thead>\n",
              "  <tbody>\n",
              "    <tr>\n",
              "      <th>count</th>\n",
              "      <td>664.000000</td>\n",
              "      <td>664.000000</td>\n",
              "      <td>664.000000</td>\n",
              "      <td>664.000000</td>\n",
              "      <td>664.000000</td>\n",
              "      <td>664.000000</td>\n",
              "      <td>664.000000</td>\n",
              "      <td>664.000000</td>\n",
              "      <td>664.000000</td>\n",
              "      <td>664.000000</td>\n",
              "      <td>...</td>\n",
              "      <td>664.000000</td>\n",
              "      <td>664.000000</td>\n",
              "      <td>664.000000</td>\n",
              "      <td>664.000000</td>\n",
              "      <td>664.000000</td>\n",
              "      <td>664.000000</td>\n",
              "      <td>664.000000</td>\n",
              "      <td>664.000000</td>\n",
              "      <td>664.000000</td>\n",
              "      <td>664.000000</td>\n",
              "    </tr>\n",
              "    <tr>\n",
              "      <th>mean</th>\n",
              "      <td>0.882988</td>\n",
              "      <td>0.851784</td>\n",
              "      <td>0.850596</td>\n",
              "      <td>0.865426</td>\n",
              "      <td>0.827285</td>\n",
              "      <td>0.871752</td>\n",
              "      <td>0.835645</td>\n",
              "      <td>0.882708</td>\n",
              "      <td>0.868726</td>\n",
              "      <td>0.852489</td>\n",
              "      <td>...</td>\n",
              "      <td>0.805749</td>\n",
              "      <td>0.854815</td>\n",
              "      <td>0.816479</td>\n",
              "      <td>0.881976</td>\n",
              "      <td>0.830085</td>\n",
              "      <td>0.872977</td>\n",
              "      <td>0.893391</td>\n",
              "      <td>0.891041</td>\n",
              "      <td>0.904239</td>\n",
              "      <td>0.880487</td>\n",
              "    </tr>\n",
              "    <tr>\n",
              "      <th>std</th>\n",
              "      <td>0.066937</td>\n",
              "      <td>0.068933</td>\n",
              "      <td>0.067135</td>\n",
              "      <td>0.063132</td>\n",
              "      <td>0.075302</td>\n",
              "      <td>0.071434</td>\n",
              "      <td>0.067120</td>\n",
              "      <td>0.064254</td>\n",
              "      <td>0.068621</td>\n",
              "      <td>0.066931</td>\n",
              "      <td>...</td>\n",
              "      <td>0.070872</td>\n",
              "      <td>0.069103</td>\n",
              "      <td>0.073709</td>\n",
              "      <td>0.067996</td>\n",
              "      <td>0.064389</td>\n",
              "      <td>0.070295</td>\n",
              "      <td>0.056799</td>\n",
              "      <td>0.058497</td>\n",
              "      <td>0.057200</td>\n",
              "      <td>0.064354</td>\n",
              "    </tr>\n",
              "    <tr>\n",
              "      <th>min</th>\n",
              "      <td>0.327244</td>\n",
              "      <td>0.312731</td>\n",
              "      <td>0.332009</td>\n",
              "      <td>0.371674</td>\n",
              "      <td>0.238370</td>\n",
              "      <td>0.273608</td>\n",
              "      <td>0.294695</td>\n",
              "      <td>0.339833</td>\n",
              "      <td>0.297393</td>\n",
              "      <td>0.288221</td>\n",
              "      <td>...</td>\n",
              "      <td>0.274388</td>\n",
              "      <td>0.268090</td>\n",
              "      <td>0.257934</td>\n",
              "      <td>0.331316</td>\n",
              "      <td>0.346129</td>\n",
              "      <td>0.262466</td>\n",
              "      <td>0.430742</td>\n",
              "      <td>0.404437</td>\n",
              "      <td>0.416294</td>\n",
              "      <td>0.360733</td>\n",
              "    </tr>\n",
              "    <tr>\n",
              "      <th>25%</th>\n",
              "      <td>0.868440</td>\n",
              "      <td>0.833835</td>\n",
              "      <td>0.832645</td>\n",
              "      <td>0.851942</td>\n",
              "      <td>0.805154</td>\n",
              "      <td>0.862102</td>\n",
              "      <td>0.821700</td>\n",
              "      <td>0.874012</td>\n",
              "      <td>0.860281</td>\n",
              "      <td>0.843503</td>\n",
              "      <td>...</td>\n",
              "      <td>0.785028</td>\n",
              "      <td>0.847733</td>\n",
              "      <td>0.790503</td>\n",
              "      <td>0.868662</td>\n",
              "      <td>0.805523</td>\n",
              "      <td>0.865172</td>\n",
              "      <td>0.886982</td>\n",
              "      <td>0.885922</td>\n",
              "      <td>0.902674</td>\n",
              "      <td>0.870473</td>\n",
              "    </tr>\n",
              "    <tr>\n",
              "      <th>50%</th>\n",
              "      <td>0.899027</td>\n",
              "      <td>0.864399</td>\n",
              "      <td>0.861258</td>\n",
              "      <td>0.878589</td>\n",
              "      <td>0.841606</td>\n",
              "      <td>0.890350</td>\n",
              "      <td>0.850681</td>\n",
              "      <td>0.896994</td>\n",
              "      <td>0.886092</td>\n",
              "      <td>0.868596</td>\n",
              "      <td>...</td>\n",
              "      <td>0.816253</td>\n",
              "      <td>0.870345</td>\n",
              "      <td>0.828278</td>\n",
              "      <td>0.897708</td>\n",
              "      <td>0.839315</td>\n",
              "      <td>0.891247</td>\n",
              "      <td>0.905182</td>\n",
              "      <td>0.904392</td>\n",
              "      <td>0.918276</td>\n",
              "      <td>0.894428</td>\n",
              "    </tr>\n",
              "    <tr>\n",
              "      <th>75%</th>\n",
              "      <td>0.918668</td>\n",
              "      <td>0.891124</td>\n",
              "      <td>0.890722</td>\n",
              "      <td>0.900315</td>\n",
              "      <td>0.873124</td>\n",
              "      <td>0.908259</td>\n",
              "      <td>0.871905</td>\n",
              "      <td>0.916455</td>\n",
              "      <td>0.904043</td>\n",
              "      <td>0.885051</td>\n",
              "      <td>...</td>\n",
              "      <td>0.847714</td>\n",
              "      <td>0.890444</td>\n",
              "      <td>0.859526</td>\n",
              "      <td>0.919357</td>\n",
              "      <td>0.870178</td>\n",
              "      <td>0.906935</td>\n",
              "      <td>0.923242</td>\n",
              "      <td>0.920026</td>\n",
              "      <td>0.932369</td>\n",
              "      <td>0.914795</td>\n",
              "    </tr>\n",
              "    <tr>\n",
              "      <th>max</th>\n",
              "      <td>0.959838</td>\n",
              "      <td>0.937265</td>\n",
              "      <td>0.934112</td>\n",
              "      <td>0.947744</td>\n",
              "      <td>0.944812</td>\n",
              "      <td>0.936499</td>\n",
              "      <td>0.917001</td>\n",
              "      <td>0.944820</td>\n",
              "      <td>0.938470</td>\n",
              "      <td>0.921623</td>\n",
              "      <td>...</td>\n",
              "      <td>0.927635</td>\n",
              "      <td>0.944830</td>\n",
              "      <td>0.922969</td>\n",
              "      <td>0.954048</td>\n",
              "      <td>0.942342</td>\n",
              "      <td>0.944092</td>\n",
              "      <td>0.957022</td>\n",
              "      <td>0.953991</td>\n",
              "      <td>0.969614</td>\n",
              "      <td>0.956046</td>\n",
              "    </tr>\n",
              "  </tbody>\n",
              "</table>\n",
              "<p>8 rows × 281 columns</p>\n",
              "</div>\n",
              "    <div class=\"colab-df-buttons\">\n",
              "\n",
              "  <div class=\"colab-df-container\">\n",
              "    <button class=\"colab-df-convert\" onclick=\"convertToInteractive('df-4fb6f010-78a1-4769-804a-7979375ddbab')\"\n",
              "            title=\"Convert this dataframe to an interactive table.\"\n",
              "            style=\"display:none;\">\n",
              "\n",
              "  <svg xmlns=\"http://www.w3.org/2000/svg\" height=\"24px\" viewBox=\"0 -960 960 960\">\n",
              "    <path d=\"M120-120v-720h720v720H120Zm60-500h600v-160H180v160Zm220 220h160v-160H400v160Zm0 220h160v-160H400v160ZM180-400h160v-160H180v160Zm440 0h160v-160H620v160ZM180-180h160v-160H180v160Zm440 0h160v-160H620v160Z\"/>\n",
              "  </svg>\n",
              "    </button>\n",
              "\n",
              "  <style>\n",
              "    .colab-df-container {\n",
              "      display:flex;\n",
              "      gap: 12px;\n",
              "    }\n",
              "\n",
              "    .colab-df-convert {\n",
              "      background-color: #E8F0FE;\n",
              "      border: none;\n",
              "      border-radius: 50%;\n",
              "      cursor: pointer;\n",
              "      display: none;\n",
              "      fill: #1967D2;\n",
              "      height: 32px;\n",
              "      padding: 0 0 0 0;\n",
              "      width: 32px;\n",
              "    }\n",
              "\n",
              "    .colab-df-convert:hover {\n",
              "      background-color: #E2EBFA;\n",
              "      box-shadow: 0px 1px 2px rgba(60, 64, 67, 0.3), 0px 1px 3px 1px rgba(60, 64, 67, 0.15);\n",
              "      fill: #174EA6;\n",
              "    }\n",
              "\n",
              "    .colab-df-buttons div {\n",
              "      margin-bottom: 4px;\n",
              "    }\n",
              "\n",
              "    [theme=dark] .colab-df-convert {\n",
              "      background-color: #3B4455;\n",
              "      fill: #D2E3FC;\n",
              "    }\n",
              "\n",
              "    [theme=dark] .colab-df-convert:hover {\n",
              "      background-color: #434B5C;\n",
              "      box-shadow: 0px 1px 3px 1px rgba(0, 0, 0, 0.15);\n",
              "      filter: drop-shadow(0px 1px 2px rgba(0, 0, 0, 0.3));\n",
              "      fill: #FFFFFF;\n",
              "    }\n",
              "  </style>\n",
              "\n",
              "    <script>\n",
              "      const buttonEl =\n",
              "        document.querySelector('#df-4fb6f010-78a1-4769-804a-7979375ddbab button.colab-df-convert');\n",
              "      buttonEl.style.display =\n",
              "        google.colab.kernel.accessAllowed ? 'block' : 'none';\n",
              "\n",
              "      async function convertToInteractive(key) {\n",
              "        const element = document.querySelector('#df-4fb6f010-78a1-4769-804a-7979375ddbab');\n",
              "        const dataTable =\n",
              "          await google.colab.kernel.invokeFunction('convertToInteractive',\n",
              "                                                    [key], {});\n",
              "        if (!dataTable) return;\n",
              "\n",
              "        const docLinkHtml = 'Like what you see? Visit the ' +\n",
              "          '<a target=\"_blank\" href=https://colab.research.google.com/notebooks/data_table.ipynb>data table notebook</a>'\n",
              "          + ' to learn more about interactive tables.';\n",
              "        element.innerHTML = '';\n",
              "        dataTable['output_type'] = 'display_data';\n",
              "        await google.colab.output.renderOutput(dataTable, element);\n",
              "        const docLink = document.createElement('div');\n",
              "        docLink.innerHTML = docLinkHtml;\n",
              "        element.appendChild(docLink);\n",
              "      }\n",
              "    </script>\n",
              "  </div>\n",
              "\n",
              "\n",
              "<div id=\"df-8c61496c-de7c-4851-81d8-081cdb0be8a5\">\n",
              "  <button class=\"colab-df-quickchart\" onclick=\"quickchart('df-8c61496c-de7c-4851-81d8-081cdb0be8a5')\"\n",
              "            title=\"Suggest charts\"\n",
              "            style=\"display:none;\">\n",
              "\n",
              "<svg xmlns=\"http://www.w3.org/2000/svg\" height=\"24px\"viewBox=\"0 0 24 24\"\n",
              "     width=\"24px\">\n",
              "    <g>\n",
              "        <path d=\"M19 3H5c-1.1 0-2 .9-2 2v14c0 1.1.9 2 2 2h14c1.1 0 2-.9 2-2V5c0-1.1-.9-2-2-2zM9 17H7v-7h2v7zm4 0h-2V7h2v10zm4 0h-2v-4h2v4z\"/>\n",
              "    </g>\n",
              "</svg>\n",
              "  </button>\n",
              "\n",
              "<style>\n",
              "  .colab-df-quickchart {\n",
              "      --bg-color: #E8F0FE;\n",
              "      --fill-color: #1967D2;\n",
              "      --hover-bg-color: #E2EBFA;\n",
              "      --hover-fill-color: #174EA6;\n",
              "      --disabled-fill-color: #AAA;\n",
              "      --disabled-bg-color: #DDD;\n",
              "  }\n",
              "\n",
              "  [theme=dark] .colab-df-quickchart {\n",
              "      --bg-color: #3B4455;\n",
              "      --fill-color: #D2E3FC;\n",
              "      --hover-bg-color: #434B5C;\n",
              "      --hover-fill-color: #FFFFFF;\n",
              "      --disabled-bg-color: #3B4455;\n",
              "      --disabled-fill-color: #666;\n",
              "  }\n",
              "\n",
              "  .colab-df-quickchart {\n",
              "    background-color: var(--bg-color);\n",
              "    border: none;\n",
              "    border-radius: 50%;\n",
              "    cursor: pointer;\n",
              "    display: none;\n",
              "    fill: var(--fill-color);\n",
              "    height: 32px;\n",
              "    padding: 0;\n",
              "    width: 32px;\n",
              "  }\n",
              "\n",
              "  .colab-df-quickchart:hover {\n",
              "    background-color: var(--hover-bg-color);\n",
              "    box-shadow: 0 1px 2px rgba(60, 64, 67, 0.3), 0 1px 3px 1px rgba(60, 64, 67, 0.15);\n",
              "    fill: var(--button-hover-fill-color);\n",
              "  }\n",
              "\n",
              "  .colab-df-quickchart-complete:disabled,\n",
              "  .colab-df-quickchart-complete:disabled:hover {\n",
              "    background-color: var(--disabled-bg-color);\n",
              "    fill: var(--disabled-fill-color);\n",
              "    box-shadow: none;\n",
              "  }\n",
              "\n",
              "  .colab-df-spinner {\n",
              "    border: 2px solid var(--fill-color);\n",
              "    border-color: transparent;\n",
              "    border-bottom-color: var(--fill-color);\n",
              "    animation:\n",
              "      spin 1s steps(1) infinite;\n",
              "  }\n",
              "\n",
              "  @keyframes spin {\n",
              "    0% {\n",
              "      border-color: transparent;\n",
              "      border-bottom-color: var(--fill-color);\n",
              "      border-left-color: var(--fill-color);\n",
              "    }\n",
              "    20% {\n",
              "      border-color: transparent;\n",
              "      border-left-color: var(--fill-color);\n",
              "      border-top-color: var(--fill-color);\n",
              "    }\n",
              "    30% {\n",
              "      border-color: transparent;\n",
              "      border-left-color: var(--fill-color);\n",
              "      border-top-color: var(--fill-color);\n",
              "      border-right-color: var(--fill-color);\n",
              "    }\n",
              "    40% {\n",
              "      border-color: transparent;\n",
              "      border-right-color: var(--fill-color);\n",
              "      border-top-color: var(--fill-color);\n",
              "    }\n",
              "    60% {\n",
              "      border-color: transparent;\n",
              "      border-right-color: var(--fill-color);\n",
              "    }\n",
              "    80% {\n",
              "      border-color: transparent;\n",
              "      border-right-color: var(--fill-color);\n",
              "      border-bottom-color: var(--fill-color);\n",
              "    }\n",
              "    90% {\n",
              "      border-color: transparent;\n",
              "      border-bottom-color: var(--fill-color);\n",
              "    }\n",
              "  }\n",
              "</style>\n",
              "\n",
              "  <script>\n",
              "    async function quickchart(key) {\n",
              "      const quickchartButtonEl =\n",
              "        document.querySelector('#' + key + ' button');\n",
              "      quickchartButtonEl.disabled = true;  // To prevent multiple clicks.\n",
              "      quickchartButtonEl.classList.add('colab-df-spinner');\n",
              "      try {\n",
              "        const charts = await google.colab.kernel.invokeFunction(\n",
              "            'suggestCharts', [key], {});\n",
              "      } catch (error) {\n",
              "        console.error('Error during call to suggestCharts:', error);\n",
              "      }\n",
              "      quickchartButtonEl.classList.remove('colab-df-spinner');\n",
              "      quickchartButtonEl.classList.add('colab-df-quickchart-complete');\n",
              "    }\n",
              "    (() => {\n",
              "      let quickchartButtonEl =\n",
              "        document.querySelector('#df-8c61496c-de7c-4851-81d8-081cdb0be8a5 button');\n",
              "      quickchartButtonEl.style.display =\n",
              "        google.colab.kernel.accessAllowed ? 'block' : 'none';\n",
              "    })();\n",
              "  </script>\n",
              "</div>\n",
              "    </div>\n",
              "  </div>\n"
            ],
            "application/vnd.google.colaboratory.intrinsic+json": {
              "type": "dataframe"
            }
          },
          "metadata": {},
          "execution_count": 64
        }
      ],
      "source": [
        "df_matrix.describe()"
      ]
    },
    {
      "cell_type": "code",
      "execution_count": 66,
      "metadata": {
        "colab": {
          "base_uri": "https://localhost:8080/"
        },
        "id": "I9xYwOJS4nmm",
        "outputId": "d8c558ff-16bd-4739-b39b-90c3d61d919d"
      },
      "outputs": [
        {
          "output_type": "stream",
          "name": "stderr",
          "text": [
            "100%|██████████| 281/281 [14:46<00:00,  3.16s/it]"
          ]
        },
        {
          "output_type": "stream",
          "name": "stdout",
          "text": [
            "        user  item     label\n",
            "0          2     0  0.869195\n",
            "1          2     1  0.831541\n",
            "2          2     3  0.909489\n",
            "3          2     4  0.848354\n",
            "4          2     6  0.940701\n",
            "...      ...   ...       ...\n",
            "186579   996   991  0.882279\n",
            "186580   996   994  0.800923\n",
            "186581   996   995  0.360733\n",
            "186582   996   997  0.909642\n",
            "186583   996   998  0.890452\n",
            "\n",
            "[186584 rows x 3 columns]\n"
          ]
        },
        {
          "output_type": "stream",
          "name": "stderr",
          "text": [
            "\n"
          ]
        }
      ],
      "source": [
        "# Build the final NCF inputs df using demand and supply word embeddings\n",
        "\n",
        "# final_ncf_input_df = pd.DataFrame(columns=['demand_id', 'supply_id', 'similarity_score'])\n",
        "final_ncf_input_df = pd.DataFrame(columns=['user', 'item', 'label'])\n",
        "count = 0\n",
        "for x in tqdm(range(len(concatenated_word_embeddings_input_list__demand_only['Index']))):\n",
        "  for y in range(len(concatenated_word_embeddings_input_list__supply_only['Index'])):\n",
        "    demand_id = concatenated_word_embeddings_input_list__demand_only['Index'][x]\n",
        "    supply_id = concatenated_word_embeddings_input_list__supply_only['Index'][y]\n",
        "    similarity_score = df_matrix[x][y]\n",
        "    new_row_data = {'user': demand_id, 'item': supply_id, 'label': similarity_score}\n",
        "    final_ncf_input_df.loc[len(final_ncf_input_df)] = new_row_data\n",
        "    count += 1\n",
        "\n",
        "print(final_ncf_input_df)"
      ]
    },
    {
      "cell_type": "code",
      "source": [
        "# convert NCF dataframe to CSV for future use\n",
        "final_ncf_input_df.to_csv('final_ncf_input_df.csv', index=True)"
      ],
      "metadata": {
        "id": "85KkTz8XDoIy"
      },
      "execution_count": 67,
      "outputs": []
    },
    {
      "cell_type": "code",
      "source": [
        "# split NCF df to train/test\n",
        "train_data, eval_data, test_data = random_split(final_ncf_input_df, multi_ratios=[0.8, 0.1, 0.1])"
      ],
      "metadata": {
        "id": "2Lwqe4cTVals"
      },
      "execution_count": 68,
      "outputs": []
    },
    {
      "cell_type": "code",
      "source": [
        "# convert NCF dataframe into compatible datatype for LibRecommender\n",
        "train_data, data_info= DatasetPure.build_trainset(train_data)\n",
        "eval_data = DatasetPure.build_evalset(eval_data)\n",
        "test_data = DatasetPure.build_testset(test_data)"
      ],
      "metadata": {
        "id": "EJz5Y-rrZVur"
      },
      "execution_count": 69,
      "outputs": []
    },
    {
      "cell_type": "code",
      "source": [
        "# configure the NCF model\n",
        "ncf = NCF(\n",
        "    task=\"rating\",\n",
        "    data_info=data_info,\n",
        "    loss_type=\"cross_entropy\",\n",
        "    embed_size=16,\n",
        "    n_epochs=10,\n",
        "    lr=0.01,\n",
        "    batch_size=2048,\n",
        "    num_neg=1,\n",
        ")"
      ],
      "metadata": {
        "id": "8anEs4L4ZbB7"
      },
      "execution_count": 70,
      "outputs": []
    },
    {
      "cell_type": "code",
      "source": [
        "# Train the NCF model\n",
        "# monitor metrics on eval data during training\n",
        "ncf.fit(\n",
        "    train_data,\n",
        "    neg_sampling=False, #for rating, this param is false else True\n",
        "    verbose=2,\n",
        "    eval_data=eval_data,\n",
        "    metrics=[\"loss\", \"rmse\", \"mae\"],\n",
        ")\n",
        "\n",
        "metrics = evaluate(\n",
        "  model=ncf,\n",
        "  data=test_data,\n",
        "  neg_sampling=False,\n",
        "  metrics=[\"loss\", \"rmse\", \"mae\"],\n",
        ")"
      ],
      "metadata": {
        "colab": {
          "base_uri": "https://localhost:8080/"
        },
        "id": "7GgslDnHzJNW",
        "outputId": "86b7e342-7fb6-4395-d6a4-6f29f1e57e11"
      },
      "execution_count": 81,
      "outputs": [
        {
          "output_type": "stream",
          "name": "stdout",
          "text": [
            "Training start time: \u001b[35m2024-05-04 04:12:44\u001b[0m\n"
          ]
        },
        {
          "output_type": "stream",
          "name": "stderr",
          "text": [
            "train: 100%|██████████| 146/146 [00:02<00:00, 68.38it/s]\n"
          ]
        },
        {
          "output_type": "stream",
          "name": "stdout",
          "text": [
            "Epoch 1 elapsed: 2.148s\n",
            "\t \u001b[32mtrain_loss: 0.0001\u001b[0m\n"
          ]
        },
        {
          "output_type": "stream",
          "name": "stderr",
          "text": [
            "eval_pointwise: 100%|██████████| 3/3 [00:00<00:00, 45.97it/s]\n"
          ]
        },
        {
          "output_type": "stream",
          "name": "stdout",
          "text": [
            "\t eval rmse: 0.0086\n",
            "\t eval rmse: 0.0086\n",
            "\t eval mae: 0.0068\n",
            "==============================\n"
          ]
        },
        {
          "output_type": "stream",
          "name": "stderr",
          "text": [
            "train: 100%|██████████| 146/146 [00:02<00:00, 64.69it/s]\n"
          ]
        },
        {
          "output_type": "stream",
          "name": "stdout",
          "text": [
            "Epoch 2 elapsed: 2.288s\n",
            "\t \u001b[32mtrain_loss: 0.0001\u001b[0m\n"
          ]
        },
        {
          "output_type": "stream",
          "name": "stderr",
          "text": [
            "eval_pointwise: 100%|██████████| 3/3 [00:00<00:00, 38.33it/s]\n"
          ]
        },
        {
          "output_type": "stream",
          "name": "stdout",
          "text": [
            "\t eval rmse: 0.0081\n",
            "\t eval rmse: 0.0081\n",
            "\t eval mae: 0.0061\n",
            "==============================\n"
          ]
        },
        {
          "output_type": "stream",
          "name": "stderr",
          "text": [
            "train: 100%|██████████| 146/146 [00:02<00:00, 54.46it/s]\n"
          ]
        },
        {
          "output_type": "stream",
          "name": "stdout",
          "text": [
            "Epoch 3 elapsed: 2.688s\n",
            "\t \u001b[32mtrain_loss: 0.0001\u001b[0m\n"
          ]
        },
        {
          "output_type": "stream",
          "name": "stderr",
          "text": [
            "eval_pointwise: 100%|██████████| 3/3 [00:00<00:00, 31.27it/s]\n"
          ]
        },
        {
          "output_type": "stream",
          "name": "stdout",
          "text": [
            "\t eval rmse: 0.0076\n",
            "\t eval rmse: 0.0076\n",
            "\t eval mae: 0.0058\n",
            "==============================\n"
          ]
        },
        {
          "output_type": "stream",
          "name": "stderr",
          "text": [
            "train: 100%|██████████| 146/146 [00:03<00:00, 44.67it/s]\n"
          ]
        },
        {
          "output_type": "stream",
          "name": "stdout",
          "text": [
            "Epoch 4 elapsed: 3.279s\n",
            "\t \u001b[32mtrain_loss: 0.0001\u001b[0m\n"
          ]
        },
        {
          "output_type": "stream",
          "name": "stderr",
          "text": [
            "eval_pointwise: 100%|██████████| 3/3 [00:00<00:00, 35.18it/s]\n"
          ]
        },
        {
          "output_type": "stream",
          "name": "stdout",
          "text": [
            "\t eval rmse: 0.0075\n",
            "\t eval rmse: 0.0075\n",
            "\t eval mae: 0.0057\n",
            "==============================\n"
          ]
        },
        {
          "output_type": "stream",
          "name": "stderr",
          "text": [
            "train: 100%|██████████| 146/146 [00:02<00:00, 59.28it/s]\n"
          ]
        },
        {
          "output_type": "stream",
          "name": "stdout",
          "text": [
            "Epoch 5 elapsed: 2.474s\n",
            "\t \u001b[32mtrain_loss: 0.0001\u001b[0m\n"
          ]
        },
        {
          "output_type": "stream",
          "name": "stderr",
          "text": [
            "eval_pointwise: 100%|██████████| 3/3 [00:00<00:00, 39.57it/s]\n"
          ]
        },
        {
          "output_type": "stream",
          "name": "stdout",
          "text": [
            "\t eval rmse: 0.0124\n",
            "\t eval rmse: 0.0124\n",
            "\t eval mae: 0.0106\n",
            "==============================\n"
          ]
        },
        {
          "output_type": "stream",
          "name": "stderr",
          "text": [
            "train: 100%|██████████| 146/146 [00:03<00:00, 48.10it/s]\n"
          ]
        },
        {
          "output_type": "stream",
          "name": "stdout",
          "text": [
            "Epoch 6 elapsed: 3.055s\n",
            "\t \u001b[32mtrain_loss: 0.0001\u001b[0m\n"
          ]
        },
        {
          "output_type": "stream",
          "name": "stderr",
          "text": [
            "eval_pointwise: 100%|██████████| 3/3 [00:00<00:00, 27.37it/s]\n"
          ]
        },
        {
          "output_type": "stream",
          "name": "stdout",
          "text": [
            "\t eval rmse: 0.0073\n",
            "\t eval rmse: 0.0073\n",
            "\t eval mae: 0.0056\n",
            "==============================\n"
          ]
        },
        {
          "output_type": "stream",
          "name": "stderr",
          "text": [
            "train: 100%|██████████| 146/146 [00:03<00:00, 48.10it/s]\n"
          ]
        },
        {
          "output_type": "stream",
          "name": "stdout",
          "text": [
            "Epoch 7 elapsed: 3.049s\n",
            "\t \u001b[32mtrain_loss: 0.0001\u001b[0m\n"
          ]
        },
        {
          "output_type": "stream",
          "name": "stderr",
          "text": [
            "eval_pointwise: 100%|██████████| 3/3 [00:00<00:00, 36.07it/s]\n"
          ]
        },
        {
          "output_type": "stream",
          "name": "stdout",
          "text": [
            "\t eval rmse: 0.0077\n",
            "\t eval rmse: 0.0077\n",
            "\t eval mae: 0.0059\n",
            "==============================\n"
          ]
        },
        {
          "output_type": "stream",
          "name": "stderr",
          "text": [
            "train: 100%|██████████| 146/146 [00:03<00:00, 39.79it/s]\n"
          ]
        },
        {
          "output_type": "stream",
          "name": "stdout",
          "text": [
            "Epoch 8 elapsed: 3.683s\n",
            "\t \u001b[32mtrain_loss: 0.0001\u001b[0m\n"
          ]
        },
        {
          "output_type": "stream",
          "name": "stderr",
          "text": [
            "eval_pointwise: 100%|██████████| 3/3 [00:00<00:00, 32.98it/s]\n"
          ]
        },
        {
          "output_type": "stream",
          "name": "stdout",
          "text": [
            "\t eval rmse: 0.0071\n",
            "\t eval rmse: 0.0071\n",
            "\t eval mae: 0.0054\n",
            "==============================\n"
          ]
        },
        {
          "output_type": "stream",
          "name": "stderr",
          "text": [
            "train: 100%|██████████| 146/146 [00:02<00:00, 51.75it/s]\n"
          ]
        },
        {
          "output_type": "stream",
          "name": "stdout",
          "text": [
            "Epoch 9 elapsed: 2.845s\n",
            "\t \u001b[32mtrain_loss: 0.0001\u001b[0m\n"
          ]
        },
        {
          "output_type": "stream",
          "name": "stderr",
          "text": [
            "eval_pointwise: 100%|██████████| 3/3 [00:00<00:00, 51.00it/s]\n"
          ]
        },
        {
          "output_type": "stream",
          "name": "stdout",
          "text": [
            "\t eval rmse: 0.0089\n",
            "\t eval rmse: 0.0089\n",
            "\t eval mae: 0.0068\n",
            "==============================\n"
          ]
        },
        {
          "output_type": "stream",
          "name": "stderr",
          "text": [
            "train: 100%|██████████| 146/146 [00:02<00:00, 68.42it/s]\n"
          ]
        },
        {
          "output_type": "stream",
          "name": "stdout",
          "text": [
            "Epoch 10 elapsed: 2.156s\n",
            "\t \u001b[32mtrain_loss: 0.0001\u001b[0m\n"
          ]
        },
        {
          "output_type": "stream",
          "name": "stderr",
          "text": [
            "eval_pointwise: 100%|██████████| 3/3 [00:00<00:00, 52.28it/s]\n"
          ]
        },
        {
          "output_type": "stream",
          "name": "stdout",
          "text": [
            "\t eval rmse: 0.0081\n",
            "\t eval rmse: 0.0081\n",
            "\t eval mae: 0.0062\n",
            "==============================\n"
          ]
        },
        {
          "output_type": "stream",
          "name": "stderr",
          "text": [
            "eval_pointwise: 100%|██████████| 3/3 [00:00<00:00, 70.41it/s]\n"
          ]
        }
      ]
    },
    {
      "cell_type": "markdown",
      "source": [
        "### Analyze Performance"
      ],
      "metadata": {
        "id": "FNiNeP3v86UR"
      }
    },
    {
      "cell_type": "code",
      "source": [
        "rsme = [0.0086, 0.0081, 0.0076, 0.0075, 0.0124, 0.0073, 0.0077, 0.0071, 0.0089, 0.0081]\n",
        "mae = [0.0068, 0.0061, 0.0058, 0.0057, 0.0106, 0.0056, 0.0059, 0.0054, 0.0068, 0.0062]\n",
        "\n",
        "# Plot evaluation metrics\n",
        "plt.plot(range(10), rsme, label='RSME')\n",
        "plt.plot(range(10), mae, label='MAE')\n",
        "\n",
        "plt.xlabel('Epochs')\n",
        "plt.ylabel('Values')\n",
        "plt.title('Performance Metrics')\n",
        "plt.legend()\n",
        "plt.xticks(range(0, len(mae)))\n",
        "plt.show()"
      ],
      "metadata": {
        "colab": {
          "base_uri": "https://localhost:8080/",
          "height": 472
        },
        "id": "WquTWO9A2Wy1",
        "outputId": "0bf8ab6b-31d2-41f9-ac62-0e466beac766"
      },
      "execution_count": 113,
      "outputs": [
        {
          "output_type": "display_data",
          "data": {
            "text/plain": [
              "<Figure size 640x480 with 1 Axes>"
            ],
            "image/png": "[encoded data removed]"
          },
          "metadata": {}
        }
      ]
    },
    {
      "cell_type": "code",
      "source": [
        "print(metrics)"
      ],
      "metadata": {
        "colab": {
          "base_uri": "https://localhost:8080/"
        },
        "id": "8tdUGwR7znvi",
        "outputId": "ad04f239-4b75-44ea-a5b9-012b6577484a"
      },
      "execution_count": 114,
      "outputs": [
        {
          "output_type": "stream",
          "name": "stdout",
          "text": [
            "{'loss': 0.007925142, 'rmse': 0.007925142, 'mae': 0.0060948743}\n"
          ]
        }
      ]
    },
    {
      "cell_type": "code",
      "source": [
        "# Extract metric name and values\n",
        "metric_names = list(metrics.keys())\n",
        "metric_values = list(metrics.values())\n",
        "\n",
        "# Plot the metrics\n",
        "plt.bar(metric_names, metric_values, color='skyblue')\n",
        "plt.xlabel('Metrics')\n",
        "plt.ylabel('Values')\n",
        "plt.title('NCF Evaluation Metrics')\n",
        "plt.show()"
      ],
      "metadata": {
        "colab": {
          "base_uri": "https://localhost:8080/",
          "height": 472
        },
        "id": "MaZdlOYTzuXQ",
        "outputId": "5bc018f5-cd00-4b7f-8ac2-0655ff2ab27e"
      },
      "execution_count": 93,
      "outputs": [
        {
          "output_type": "display_data",
          "data": {
            "text/plain": [
              "<Figure size 640x480 with 1 Axes>"
            ],
            "image/png": "[encoded data removed]"
          },
          "metadata": {}
        }
      ]
    },
    {
      "cell_type": "code",
      "source": [
        "# info regarding the data\n",
        "ncf.data_info"
      ],
      "metadata": {
        "colab": {
          "base_uri": "https://localhost:8080/"
        },
        "id": "TQP64ZLgdEpB",
        "outputId": "96e9ba52-cce3-4632-f3d9-e897b4496fef"
      },
      "execution_count": 115,
      "outputs": [
        {
          "output_type": "execute_result",
          "data": {
            "text/plain": [
              "n_users: 281, n_items: 664, data density: 79.9994 %"
            ]
          },
          "metadata": {},
          "execution_count": 115
        }
      ]
    },
    {
      "cell_type": "code",
      "source": [
        "# identify the IDs for the user/demand posts\n",
        "final_ncf_input_df['user'].unique()"
      ],
      "metadata": {
        "colab": {
          "base_uri": "https://localhost:8080/"
        },
        "id": "teJTc3dTdKc6",
        "outputId": "71507c70-0c23-4926-834e-55e59bf9e605"
      },
      "execution_count": 116,
      "outputs": [
        {
          "output_type": "execute_result",
          "data": {
            "text/plain": [
              "array([  2,   7,  11,  12,  13,  18,  25,  26,  33,  41,  46,  55,  56,\n",
              "        63,  69,  72,  78,  81,  83,  89, 156, 158, 167, 173, 181, 182,\n",
              "       205, 209, 214, 227, 229, 261, 274, 286, 287, 290, 293, 297, 312,\n",
              "       321, 324, 333, 335, 339, 344, 352, 353, 354, 357, 358, 367, 370,\n",
              "       374, 380, 382, 399, 400, 401, 404, 405, 407, 410, 411, 415, 417,\n",
              "       418, 420, 427, 429, 431, 435, 440, 442, 448, 450, 453, 459, 460,\n",
              "       461, 462, 463, 466, 468, 470, 471, 472, 473, 474, 476, 478, 481,\n",
              "       482, 483, 486, 487, 495, 496, 497, 498, 499, 503, 506, 507, 511,\n",
              "       513, 514, 520, 522, 524, 528, 529, 532, 534, 541, 542, 543, 549,\n",
              "       550, 552, 553, 554, 555, 557, 560, 561, 563, 564, 567, 569, 577,\n",
              "       580, 584, 591, 592, 596, 597, 600, 602, 605, 607, 613, 621, 631,\n",
              "       632, 640, 642, 643, 645, 646, 651, 654, 656, 660, 666, 670, 673,\n",
              "       677, 680, 683, 685, 686, 691, 692, 694, 696, 697, 698, 700, 703,\n",
              "       704, 705, 707, 712, 716, 719, 720, 722, 727, 729, 731, 732, 738,\n",
              "       739, 740, 743, 746, 747, 750, 752, 753, 754, 756, 761, 763, 776,\n",
              "       777, 778, 786, 789, 790, 793, 794, 804, 807, 810, 814, 816, 817,\n",
              "       819, 825, 826, 827, 831, 833, 837, 838, 841, 843, 846, 847, 851,\n",
              "       852, 853, 855, 857, 860, 864, 870, 871, 872, 875, 877, 879, 880,\n",
              "       884, 886, 892, 896, 897, 898, 900, 906, 907, 908, 911, 912, 914,\n",
              "       915, 918, 919, 920, 922, 926, 927, 928, 929, 930, 931, 933, 934,\n",
              "       938, 939, 941, 943, 946, 950, 952, 953, 954, 956, 959, 962, 965,\n",
              "       966, 971, 975, 979, 983, 990, 993, 996])"
            ]
          },
          "metadata": {},
          "execution_count": 116
        }
      ]
    },
    {
      "cell_type": "code",
      "source": [
        "# # predict preference of user to item\n",
        "# ncf.predict(user=88, item=11)\n",
        "\n",
        "\n",
        "# recommend 5 items for user\n",
        "user_id = 26\n",
        "top_5_recs_ncf = ncf.recommend_user(user=user_id, n_rec=5)\n",
        "top_5_recs_ncf"
      ],
      "metadata": {
        "colab": {
          "base_uri": "https://localhost:8080/"
        },
        "id": "i1bCkSz1aZ4-",
        "outputId": "5c21f1e2-83f3-4c31-f628-e4ad0598e7d6"
      },
      "execution_count": 117,
      "outputs": [
        {
          "output_type": "execute_result",
          "data": {
            "text/plain": [
              "{26: array([307, 310, 377,  88, 574])}"
            ]
          },
          "metadata": {},
          "execution_count": 117
        }
      ]
    },
    {
      "cell_type": "code",
      "source": [
        "print(df['inputs'].loc[user_id])\n",
        "print(df['fromDate'].loc[user_id])"
      ],
      "metadata": {
        "colab": {
          "base_uri": "https://localhost:8080/"
        },
        "id": "xZxdTQ9ObskA",
        "outputId": "800fb1c8-60ee-4ad0-f027-f03043bc026c"
      },
      "execution_count": 118,
      "outputs": [
        {
          "output_type": "stream",
          "name": "stdout",
          "text": [
            "Hi everyone, I'm looking for a private room with private bath in the North SJ, North Sunnyvale, Milpitas, or south Fremont area. My budget is $1500.\n",
            "Let me know if you have anything available!\n",
            "nan\n",
            "04/27/2024\n"
          ]
        }
      ]
    },
    {
      "cell_type": "code",
      "source": [
        "for x in top_5_recs_ncf[user_id]:\n",
        "  print('Seller:', x,'\\n' , df['inputs'].loc[x])\n",
        "  print('DATES:', df['fromDate'].loc[x])\n",
        "  print(\"_______________________________________________________________________________________________\")"
      ],
      "metadata": {
        "colab": {
          "base_uri": "https://localhost:8080/"
        },
        "id": "SM4JvkSqAT8y",
        "outputId": "d161bb70-7523-452d-9904-9c5e316f6db2"
      },
      "execution_count": 100,
      "outputs": [
        {
          "output_type": "stream",
          "name": "stdout",
          "text": [
            "Seller: 307 \n",
            " Avaialble now, unit within walking distance (3 blocks) to Sjsu. Own bedroom, bathroom, kitchen and living/dining.  1 designated parking spot. Inhouse laundry. Up to 3 people ok. $2150/mo. \n",
            "\n",
            "Pls comment below and send pm to me. I have pics and show you in person (by appointment only).  Thank you.\n",
            "nan\n",
            "DATES: 4/27/2024\n",
            "_______________________________________________________________________________________________\n",
            "Seller: 310 \n",
            " Have a spacious furnished room in a 2b 2b double master condo on 4th st at the Paseo plaza condos rent is $1700 utilities about 200 a month available end of September. Send me a message if interested.\n",
            "nan\n",
            "DATES: 09/27/2024\n",
            "_______________________________________________________________________________________________\n",
            "Seller: 377 \n",
            " Masterbedroom (unfurnished) with private bathroom for rent after October 1 (somewhat flexible). $1900/month. Large backyard, garage space, washer/drier in house, very quiet neighborhood. Located in Santa Clara near Bowers Park. Message me if interested!\n",
            "nan\n",
            "DATES: 10/01/2024\n",
            "_______________________________________________________________________________________________\n",
            "Seller: 88 \n",
            " Hello, I am looking for a new tenant (only girls) for my room in Sparta 505. The room is available for six months and will be vacant from January\n",
            "12. Your roommates would be Kira and Lili, two very nice girls who also study at SJSU. The private room comes with its own bathroom and is very bright. The rent is €1780 per month. If interested, please contact me, and I will forward your details to the leasing office.\n",
            "(it is the MASTER BEDROOM B in the picture below)\n",
            "nan\n",
            "DATES: 01/12/2024\n",
            "_______________________________________________________________________________________________\n",
            "Seller: 574 \n",
            " **ROOM IN DOWNTOWN AVAILABLE**\n",
            "Hi! If you are looking for a one bedroom two blocks from SJSU, there is a room availaible in this two bedroom apartment. The rent is $950 a month. Utilities are covered except comcast and pge. My old roommate is still living there he is a 25 year old SJSU alum and works in education. if you are interested in meeting him or checking out the space let me know!\n",
            "nan\n",
            "DATES: 04/27/2024\n",
            "_______________________________________________________________________________________________\n"
          ]
        }
      ]
    }
  ],
  "metadata": {
    "colab": {
      "provenance": [],
      "toc_visible": true
    },
    "kernelspec": {
      "display_name": "Python 3",
      "name": "python3"
    },
    "language_info": {
      "name": "python"
    },
    "widgets": {
      "application/vnd.jupyter.widget-state+json": {
        "9af1e68eb4c6429aa058e61e2448c87f": {
          "model_module": "@jupyter-widgets/controls",
          "model_name": "HBoxModel",
          "model_module_version": "1.5.0",
          "state": {
            "_dom_classes": [],
            "_model_module": "@jupyter-widgets/controls",
            "_model_module_version": "1.5.0",
            "_model_name": "HBoxModel",
            "_view_count": null,
            "_view_module": "@jupyter-widgets/controls",
            "_view_module_version": "1.5.0",
            "_view_name": "HBoxView",
            "box_style": "",
            "children": [
              "IPY_MODEL_01bf3be924994b038347ee8df935953c",
              "IPY_MODEL_bdc1616621d1401591a95c3e91e0bc0e",
              "IPY_MODEL_054248b15b28467d8cc648b87793b0c4"
            ],
            "layout": "IPY_MODEL_0fdf6aa0e316425487ba9e79e5028e0d"
          }
        },
        "01bf3be924994b038347ee8df935953c": {
          "model_module": "@jupyter-widgets/controls",
          "model_name": "HTMLModel",
          "model_module_version": "1.5.0",
          "state": {
            "_dom_classes": [],
            "_model_module": "@jupyter-widgets/controls",
            "_model_module_version": "1.5.0",
            "_model_name": "HTMLModel",
            "_view_count": null,
            "_view_module": "@jupyter-widgets/controls",
            "_view_module_version": "1.5.0",
            "_view_name": "HTMLView",
            "description": "",
            "description_tooltip": null,
            "layout": "IPY_MODEL_93e3800269da4fb1b367ac1d3553f8ba",
            "placeholder": "​",
            "style": "IPY_MODEL_c5eb626fd9a049979066580623d4e0fc",
            "value": "tokenizer_config.json: 100%"
          }
        },
        "bdc1616621d1401591a95c3e91e0bc0e": {
          "model_module": "@jupyter-widgets/controls",
          "model_name": "FloatProgressModel",
          "model_module_version": "1.5.0",
          "state": {
            "_dom_classes": [],
            "_model_module": "@jupyter-widgets/controls",
            "_model_module_version": "1.5.0",
            "_model_name": "FloatProgressModel",
            "_view_count": null,
            "_view_module": "@jupyter-widgets/controls",
            "_view_module_version": "1.5.0",
            "_view_name": "ProgressView",
            "bar_style": "success",
            "description": "",
            "description_tooltip": null,
            "layout": "IPY_MODEL_1c4128ba2d8a4a56b2111d4dd49a7d6b",
            "max": 48,
            "min": 0,
            "orientation": "horizontal",
            "style": "IPY_MODEL_6262b629efbf4678ac13812f0640f872",
            "value": 48
          }
        },
        "054248b15b28467d8cc648b87793b0c4": {
          "model_module": "@jupyter-widgets/controls",
          "model_name": "HTMLModel",
          "model_module_version": "1.5.0",
          "state": {
            "_dom_classes": [],
            "_model_module": "@jupyter-widgets/controls",
            "_model_module_version": "1.5.0",
            "_model_name": "HTMLModel",
            "_view_count": null,
            "_view_module": "@jupyter-widgets/controls",
            "_view_module_version": "1.5.0",
            "_view_name": "HTMLView",
            "description": "",
            "description_tooltip": null,
            "layout": "IPY_MODEL_b008de4bba9442c0ac24705b3e0c70e3",
            "placeholder": "​",
            "style": "IPY_MODEL_891e31e6b2fd413d8d3e9ffd82f19f81",
            "value": " 48.0/48.0 [00:00&lt;00:00, 2.60kB/s]"
          }
        },
        "0fdf6aa0e316425487ba9e79e5028e0d": {
          "model_module": "@jupyter-widgets/base",
          "model_name": "LayoutModel",
          "model_module_version": "1.2.0",
          "state": {
            "_model_module": "@jupyter-widgets/base",
            "_model_module_version": "1.2.0",
            "_model_name": "LayoutModel",
            "_view_count": null,
            "_view_module": "@jupyter-widgets/base",
            "_view_module_version": "1.2.0",
            "_view_name": "LayoutView",
            "align_content": null,
            "align_items": null,
            "align_self": null,
            "border": null,
            "bottom": null,
            "display": null,
            "flex": null,
            "flex_flow": null,
            "grid_area": null,
            "grid_auto_columns": null,
            "grid_auto_flow": null,
            "grid_auto_rows": null,
            "grid_column": null,
            "grid_gap": null,
            "grid_row": null,
            "grid_template_areas": null,
            "grid_template_columns": null,
            "grid_template_rows": null,
            "height": null,
            "justify_content": null,
            "justify_items": null,
            "left": null,
            "margin": null,
            "max_height": null,
            "max_width": null,
            "min_height": null,
            "min_width": null,
            "object_fit": null,
            "object_position": null,
            "order": null,
            "overflow": null,
            "overflow_x": null,
            "overflow_y": null,
            "padding": null,
            "right": null,
            "top": null,
            "visibility": null,
            "width": null
          }
        },
        "93e3800269da4fb1b367ac1d3553f8ba": {
          "model_module": "@jupyter-widgets/base",
          "model_name": "LayoutModel",
          "model_module_version": "1.2.0",
          "state": {
            "_model_module": "@jupyter-widgets/base",
            "_model_module_version": "1.2.0",
            "_model_name": "LayoutModel",
            "_view_count": null,
            "_view_module": "@jupyter-widgets/base",
            "_view_module_version": "1.2.0",
            "_view_name": "LayoutView",
            "align_content": null,
            "align_items": null,
            "align_self": null,
            "border": null,
            "bottom": null,
            "display": null,
            "flex": null,
            "flex_flow": null,
            "grid_area": null,
            "grid_auto_columns": null,
            "grid_auto_flow": null,
            "grid_auto_rows": null,
            "grid_column": null,
            "grid_gap": null,
            "grid_row": null,
            "grid_template_areas": null,
            "grid_template_columns": null,
            "grid_template_rows": null,
            "height": null,
            "justify_content": null,
            "justify_items": null,
            "left": null,
            "margin": null,
            "max_height": null,
            "max_width": null,
            "min_height": null,
            "min_width": null,
            "object_fit": null,
            "object_position": null,
            "order": null,
            "overflow": null,
            "overflow_x": null,
            "overflow_y": null,
            "padding": null,
            "right": null,
            "top": null,
            "visibility": null,
            "width": null
          }
        },
        "c5eb626fd9a049979066580623d4e0fc": {
          "model_module": "@jupyter-widgets/controls",
          "model_name": "DescriptionStyleModel",
          "model_module_version": "1.5.0",
          "state": {
            "_model_module": "@jupyter-widgets/controls",
            "_model_module_version": "1.5.0",
            "_model_name": "DescriptionStyleModel",
            "_view_count": null,
            "_view_module": "@jupyter-widgets/base",
            "_view_module_version": "1.2.0",
            "_view_name": "StyleView",
            "description_width": ""
          }
        },
        "1c4128ba2d8a4a56b2111d4dd49a7d6b": {
          "model_module": "@jupyter-widgets/base",
          "model_name": "LayoutModel",
          "model_module_version": "1.2.0",
          "state": {
            "_model_module": "@jupyter-widgets/base",
            "_model_module_version": "1.2.0",
            "_model_name": "LayoutModel",
            "_view_count": null,
            "_view_module": "@jupyter-widgets/base",
            "_view_module_version": "1.2.0",
            "_view_name": "LayoutView",
            "align_content": null,
            "align_items": null,
            "align_self": null,
            "border": null,
            "bottom": null,
            "display": null,
            "flex": null,
            "flex_flow": null,
            "grid_area": null,
            "grid_auto_columns": null,
            "grid_auto_flow": null,
            "grid_auto_rows": null,
            "grid_column": null,
            "grid_gap": null,
            "grid_row": null,
            "grid_template_areas": null,
            "grid_template_columns": null,
            "grid_template_rows": null,
            "height": null,
            "justify_content": null,
            "justify_items": null,
            "left": null,
            "margin": null,
            "max_height": null,
            "max_width": null,
            "min_height": null,
            "min_width": null,
            "object_fit": null,
            "object_position": null,
            "order": null,
            "overflow": null,
            "overflow_x": null,
            "overflow_y": null,
            "padding": null,
            "right": null,
            "top": null,
            "visibility": null,
            "width": null
          }
        },
        "6262b629efbf4678ac13812f0640f872": {
          "model_module": "@jupyter-widgets/controls",
          "model_name": "ProgressStyleModel",
          "model_module_version": "1.5.0",
          "state": {
            "_model_module": "@jupyter-widgets/controls",
            "_model_module_version": "1.5.0",
            "_model_name": "ProgressStyleModel",
            "_view_count": null,
            "_view_module": "@jupyter-widgets/base",
            "_view_module_version": "1.2.0",
            "_view_name": "StyleView",
            "bar_color": null,
            "description_width": ""
          }
        },
        "b008de4bba9442c0ac24705b3e0c70e3": {
          "model_module": "@jupyter-widgets/base",
          "model_name": "LayoutModel",
          "model_module_version": "1.2.0",
          "state": {
            "_model_module": "@jupyter-widgets/base",
            "_model_module_version": "1.2.0",
            "_model_name": "LayoutModel",
            "_view_count": null,
            "_view_module": "@jupyter-widgets/base",
            "_view_module_version": "1.2.0",
            "_view_name": "LayoutView",
            "align_content": null,
            "align_items": null,
            "align_self": null,
            "border": null,
            "bottom": null,
            "display": null,
            "flex": null,
            "flex_flow": null,
            "grid_area": null,
            "grid_auto_columns": null,
            "grid_auto_flow": null,
            "grid_auto_rows": null,
            "grid_column": null,
            "grid_gap": null,
            "grid_row": null,
            "grid_template_areas": null,
            "grid_template_columns": null,
            "grid_template_rows": null,
            "height": null,
            "justify_content": null,
            "justify_items": null,
            "left": null,
            "margin": null,
            "max_height": null,
            "max_width": null,
            "min_height": null,
            "min_width": null,
            "object_fit": null,
            "object_position": null,
            "order": null,
            "overflow": null,
            "overflow_x": null,
            "overflow_y": null,
            "padding": null,
            "right": null,
            "top": null,
            "visibility": null,
            "width": null
          }
        },
        "891e31e6b2fd413d8d3e9ffd82f19f81": {
          "model_module": "@jupyter-widgets/controls",
          "model_name": "DescriptionStyleModel",
          "model_module_version": "1.5.0",
          "state": {
            "_model_module": "@jupyter-widgets/controls",
            "_model_module_version": "1.5.0",
            "_model_name": "DescriptionStyleModel",
            "_view_count": null,
            "_view_module": "@jupyter-widgets/base",
            "_view_module_version": "1.2.0",
            "_view_name": "StyleView",
            "description_width": ""
          }
        },
        "37ce74fae14e4520a58b8e8f5f5914ba": {
          "model_module": "@jupyter-widgets/controls",
          "model_name": "HBoxModel",
          "model_module_version": "1.5.0",
          "state": {
            "_dom_classes": [],
            "_model_module": "@jupyter-widgets/controls",
            "_model_module_version": "1.5.0",
            "_model_name": "HBoxModel",
            "_view_count": null,
            "_view_module": "@jupyter-widgets/controls",
            "_view_module_version": "1.5.0",
            "_view_name": "HBoxView",
            "box_style": "",
            "children": [
              "IPY_MODEL_98886e99f9334434a786600e8b8bdbe5",
              "IPY_MODEL_8cf68487c4f644e9a3b7c540d2a353b3",
              "IPY_MODEL_ea3ed30105de4a918a725b004b56705f"
            ],
            "layout": "IPY_MODEL_1173fb67fd9e4615bfe49bd14df169f6"
          }
        },
        "98886e99f9334434a786600e8b8bdbe5": {
          "model_module": "@jupyter-widgets/controls",
          "model_name": "HTMLModel",
          "model_module_version": "1.5.0",
          "state": {
            "_dom_classes": [],
            "_model_module": "@jupyter-widgets/controls",
            "_model_module_version": "1.5.0",
            "_model_name": "HTMLModel",
            "_view_count": null,
            "_view_module": "@jupyter-widgets/controls",
            "_view_module_version": "1.5.0",
            "_view_name": "HTMLView",
            "description": "",
            "description_tooltip": null,
            "layout": "IPY_MODEL_41d99dfd5dfb4d4ea7ea2aff0302e465",
            "placeholder": "​",
            "style": "IPY_MODEL_0a03cf684742481c891570229e1fe14c",
            "value": "vocab.txt: 100%"
          }
        },
        "8cf68487c4f644e9a3b7c540d2a353b3": {
          "model_module": "@jupyter-widgets/controls",
          "model_name": "FloatProgressModel",
          "model_module_version": "1.5.0",
          "state": {
            "_dom_classes": [],
            "_model_module": "@jupyter-widgets/controls",
            "_model_module_version": "1.5.0",
            "_model_name": "FloatProgressModel",
            "_view_count": null,
            "_view_module": "@jupyter-widgets/controls",
            "_view_module_version": "1.5.0",
            "_view_name": "ProgressView",
            "bar_style": "success",
            "description": "",
            "description_tooltip": null,
            "layout": "IPY_MODEL_3a480303dbb146bbbfa95f4b6faa18ae",
            "max": 231508,
            "min": 0,
            "orientation": "horizontal",
            "style": "IPY_MODEL_82680fa77de74e9790f699b431099782",
            "value": 231508
          }
        },
        "ea3ed30105de4a918a725b004b56705f": {
          "model_module": "@jupyter-widgets/controls",
          "model_name": "HTMLModel",
          "model_module_version": "1.5.0",
          "state": {
            "_dom_classes": [],
            "_model_module": "@jupyter-widgets/controls",
            "_model_module_version": "1.5.0",
            "_model_name": "HTMLModel",
            "_view_count": null,
            "_view_module": "@jupyter-widgets/controls",
            "_view_module_version": "1.5.0",
            "_view_name": "HTMLView",
            "description": "",
            "description_tooltip": null,
            "layout": "IPY_MODEL_2817c2e9b98a479eabb48b7c0f17f13b",
            "placeholder": "​",
            "style": "IPY_MODEL_13f721be345d4490a2a047472e634250",
            "value": " 232k/232k [00:00&lt;00:00, 3.27MB/s]"
          }
        },
        "1173fb67fd9e4615bfe49bd14df169f6": {
          "model_module": "@jupyter-widgets/base",
          "model_name": "LayoutModel",
          "model_module_version": "1.2.0",
          "state": {
            "_model_module": "@jupyter-widgets/base",
            "_model_module_version": "1.2.0",
            "_model_name": "LayoutModel",
            "_view_count": null,
            "_view_module": "@jupyter-widgets/base",
            "_view_module_version": "1.2.0",
            "_view_name": "LayoutView",
            "align_content": null,
            "align_items": null,
            "align_self": null,
            "border": null,
            "bottom": null,
            "display": null,
            "flex": null,
            "flex_flow": null,
            "grid_area": null,
            "grid_auto_columns": null,
            "grid_auto_flow": null,
            "grid_auto_rows": null,
            "grid_column": null,
            "grid_gap": null,
            "grid_row": null,
            "grid_template_areas": null,
            "grid_template_columns": null,
            "grid_template_rows": null,
            "height": null,
            "justify_content": null,
            "justify_items": null,
            "left": null,
            "margin": null,
            "max_height": null,
            "max_width": null,
            "min_height": null,
            "min_width": null,
            "object_fit": null,
            "object_position": null,
            "order": null,
            "overflow": null,
            "overflow_x": null,
            "overflow_y": null,
            "padding": null,
            "right": null,
            "top": null,
            "visibility": null,
            "width": null
          }
        },
        "41d99dfd5dfb4d4ea7ea2aff0302e465": {
          "model_module": "@jupyter-widgets/base",
          "model_name": "LayoutModel",
          "model_module_version": "1.2.0",
          "state": {
            "_model_module": "@jupyter-widgets/base",
            "_model_module_version": "1.2.0",
            "_model_name": "LayoutModel",
            "_view_count": null,
            "_view_module": "@jupyter-widgets/base",
            "_view_module_version": "1.2.0",
            "_view_name": "LayoutView",
            "align_content": null,
            "align_items": null,
            "align_self": null,
            "border": null,
            "bottom": null,
            "display": null,
            "flex": null,
            "flex_flow": null,
            "grid_area": null,
            "grid_auto_columns": null,
            "grid_auto_flow": null,
            "grid_auto_rows": null,
            "grid_column": null,
            "grid_gap": null,
            "grid_row": null,
            "grid_template_areas": null,
            "grid_template_columns": null,
            "grid_template_rows": null,
            "height": null,
            "justify_content": null,
            "justify_items": null,
            "left": null,
            "margin": null,
            "max_height": null,
            "max_width": null,
            "min_height": null,
            "min_width": null,
            "object_fit": null,
            "object_position": null,
            "order": null,
            "overflow": null,
            "overflow_x": null,
            "overflow_y": null,
            "padding": null,
            "right": null,
            "top": null,
            "visibility": null,
            "width": null
          }
        },
        "0a03cf684742481c891570229e1fe14c": {
          "model_module": "@jupyter-widgets/controls",
          "model_name": "DescriptionStyleModel",
          "model_module_version": "1.5.0",
          "state": {
            "_model_module": "@jupyter-widgets/controls",
            "_model_module_version": "1.5.0",
            "_model_name": "DescriptionStyleModel",
            "_view_count": null,
            "_view_module": "@jupyter-widgets/base",
            "_view_module_version": "1.2.0",
            "_view_name": "StyleView",
            "description_width": ""
          }
        },
        "3a480303dbb146bbbfa95f4b6faa18ae": {
          "model_module": "@jupyter-widgets/base",
          "model_name": "LayoutModel",
          "model_module_version": "1.2.0",
          "state": {
            "_model_module": "@jupyter-widgets/base",
            "_model_module_version": "1.2.0",
            "_model_name": "LayoutModel",
            "_view_count": null,
            "_view_module": "@jupyter-widgets/base",
            "_view_module_version": "1.2.0",
            "_view_name": "LayoutView",
            "align_content": null,
            "align_items": null,
            "align_self": null,
            "border": null,
            "bottom": null,
            "display": null,
            "flex": null,
            "flex_flow": null,
            "grid_area": null,
            "grid_auto_columns": null,
            "grid_auto_flow": null,
            "grid_auto_rows": null,
            "grid_column": null,
            "grid_gap": null,
            "grid_row": null,
            "grid_template_areas": null,
            "grid_template_columns": null,
            "grid_template_rows": null,
            "height": null,
            "justify_content": null,
            "justify_items": null,
            "left": null,
            "margin": null,
            "max_height": null,
            "max_width": null,
            "min_height": null,
            "min_width": null,
            "object_fit": null,
            "object_position": null,
            "order": null,
            "overflow": null,
            "overflow_x": null,
            "overflow_y": null,
            "padding": null,
            "right": null,
            "top": null,
            "visibility": null,
            "width": null
          }
        },
        "82680fa77de74e9790f699b431099782": {
          "model_module": "@jupyter-widgets/controls",
          "model_name": "ProgressStyleModel",
          "model_module_version": "1.5.0",
          "state": {
            "_model_module": "@jupyter-widgets/controls",
            "_model_module_version": "1.5.0",
            "_model_name": "ProgressStyleModel",
            "_view_count": null,
            "_view_module": "@jupyter-widgets/base",
            "_view_module_version": "1.2.0",
            "_view_name": "StyleView",
            "bar_color": null,
            "description_width": ""
          }
        },
        "2817c2e9b98a479eabb48b7c0f17f13b": {
          "model_module": "@jupyter-widgets/base",
          "model_name": "LayoutModel",
          "model_module_version": "1.2.0",
          "state": {
            "_model_module": "@jupyter-widgets/base",
            "_model_module_version": "1.2.0",
            "_model_name": "LayoutModel",
            "_view_count": null,
            "_view_module": "@jupyter-widgets/base",
            "_view_module_version": "1.2.0",
            "_view_name": "LayoutView",
            "align_content": null,
            "align_items": null,
            "align_self": null,
            "border": null,
            "bottom": null,
            "display": null,
            "flex": null,
            "flex_flow": null,
            "grid_area": null,
            "grid_auto_columns": null,
            "grid_auto_flow": null,
            "grid_auto_rows": null,
            "grid_column": null,
            "grid_gap": null,
            "grid_row": null,
            "grid_template_areas": null,
            "grid_template_columns": null,
            "grid_template_rows": null,
            "height": null,
            "justify_content": null,
            "justify_items": null,
            "left": null,
            "margin": null,
            "max_height": null,
            "max_width": null,
            "min_height": null,
            "min_width": null,
            "object_fit": null,
            "object_position": null,
            "order": null,
            "overflow": null,
            "overflow_x": null,
            "overflow_y": null,
            "padding": null,
            "right": null,
            "top": null,
            "visibility": null,
            "width": null
          }
        },
        "13f721be345d4490a2a047472e634250": {
          "model_module": "@jupyter-widgets/controls",
          "model_name": "DescriptionStyleModel",
          "model_module_version": "1.5.0",
          "state": {
            "_model_module": "@jupyter-widgets/controls",
            "_model_module_version": "1.5.0",
            "_model_name": "DescriptionStyleModel",
            "_view_count": null,
            "_view_module": "@jupyter-widgets/base",
            "_view_module_version": "1.2.0",
            "_view_name": "StyleView",
            "description_width": ""
          }
        },
        "998698c1d0f8417b8e045c80507e21aa": {
          "model_module": "@jupyter-widgets/controls",
          "model_name": "HBoxModel",
          "model_module_version": "1.5.0",
          "state": {
            "_dom_classes": [],
            "_model_module": "@jupyter-widgets/controls",
            "_model_module_version": "1.5.0",
            "_model_name": "HBoxModel",
            "_view_count": null,
            "_view_module": "@jupyter-widgets/controls",
            "_view_module_version": "1.5.0",
            "_view_name": "HBoxView",
            "box_style": "",
            "children": [
              "IPY_MODEL_a2694a4839854b0dbd79f2727f454b58",
              "IPY_MODEL_014aeb2f22e248979297b7d46844b4da",
              "IPY_MODEL_8c462fcca7ed4111a4738f940c679371"
            ],
            "layout": "IPY_MODEL_42541b6f63424326952eb195f58a6818"
          }
        },
        "a2694a4839854b0dbd79f2727f454b58": {
          "model_module": "@jupyter-widgets/controls",
          "model_name": "HTMLModel",
          "model_module_version": "1.5.0",
          "state": {
            "_dom_classes": [],
            "_model_module": "@jupyter-widgets/controls",
            "_model_module_version": "1.5.0",
            "_model_name": "HTMLModel",
            "_view_count": null,
            "_view_module": "@jupyter-widgets/controls",
            "_view_module_version": "1.5.0",
            "_view_name": "HTMLView",
            "description": "",
            "description_tooltip": null,
            "layout": "IPY_MODEL_ed51a04c525b44eabdde0e7fb3faee0f",
            "placeholder": "​",
            "style": "IPY_MODEL_64474d58e919475bb5d50b37f34a95ef",
            "value": "tokenizer.json: 100%"
          }
        },
        "014aeb2f22e248979297b7d46844b4da": {
          "model_module": "@jupyter-widgets/controls",
          "model_name": "FloatProgressModel",
          "model_module_version": "1.5.0",
          "state": {
            "_dom_classes": [],
            "_model_module": "@jupyter-widgets/controls",
            "_model_module_version": "1.5.0",
            "_model_name": "FloatProgressModel",
            "_view_count": null,
            "_view_module": "@jupyter-widgets/controls",
            "_view_module_version": "1.5.0",
            "_view_name": "ProgressView",
            "bar_style": "success",
            "description": "",
            "description_tooltip": null,
            "layout": "IPY_MODEL_ed804b8d3f684f4f8664a44ad9b31390",
            "max": 466062,
            "min": 0,
            "orientation": "horizontal",
            "style": "IPY_MODEL_c9bbbc6554bf4794afaec9fd7a30e871",
            "value": 466062
          }
        },
        "8c462fcca7ed4111a4738f940c679371": {
          "model_module": "@jupyter-widgets/controls",
          "model_name": "HTMLModel",
          "model_module_version": "1.5.0",
          "state": {
            "_dom_classes": [],
            "_model_module": "@jupyter-widgets/controls",
            "_model_module_version": "1.5.0",
            "_model_name": "HTMLModel",
            "_view_count": null,
            "_view_module": "@jupyter-widgets/controls",
            "_view_module_version": "1.5.0",
            "_view_name": "HTMLView",
            "description": "",
            "description_tooltip": null,
            "layout": "IPY_MODEL_99b02f492fe14fb3a93fdad54f236200",
            "placeholder": "​",
            "style": "IPY_MODEL_5df57a9a30834c959ffd8d1e0324bdd2",
            "value": " 466k/466k [00:00&lt;00:00, 5.47MB/s]"
          }
        },
        "42541b6f63424326952eb195f58a6818": {
          "model_module": "@jupyter-widgets/base",
          "model_name": "LayoutModel",
          "model_module_version": "1.2.0",
          "state": {
            "_model_module": "@jupyter-widgets/base",
            "_model_module_version": "1.2.0",
            "_model_name": "LayoutModel",
            "_view_count": null,
            "_view_module": "@jupyter-widgets/base",
            "_view_module_version": "1.2.0",
            "_view_name": "LayoutView",
            "align_content": null,
            "align_items": null,
            "align_self": null,
            "border": null,
            "bottom": null,
            "display": null,
            "flex": null,
            "flex_flow": null,
            "grid_area": null,
            "grid_auto_columns": null,
            "grid_auto_flow": null,
            "grid_auto_rows": null,
            "grid_column": null,
            "grid_gap": null,
            "grid_row": null,
            "grid_template_areas": null,
            "grid_template_columns": null,
            "grid_template_rows": null,
            "height": null,
            "justify_content": null,
            "justify_items": null,
            "left": null,
            "margin": null,
            "max_height": null,
            "max_width": null,
            "min_height": null,
            "min_width": null,
            "object_fit": null,
            "object_position": null,
            "order": null,
            "overflow": null,
            "overflow_x": null,
            "overflow_y": null,
            "padding": null,
            "right": null,
            "top": null,
            "visibility": null,
            "width": null
          }
        },
        "ed51a04c525b44eabdde0e7fb3faee0f": {
          "model_module": "@jupyter-widgets/base",
          "model_name": "LayoutModel",
          "model_module_version": "1.2.0",
          "state": {
            "_model_module": "@jupyter-widgets/base",
            "_model_module_version": "1.2.0",
            "_model_name": "LayoutModel",
            "_view_count": null,
            "_view_module": "@jupyter-widgets/base",
            "_view_module_version": "1.2.0",
            "_view_name": "LayoutView",
            "align_content": null,
            "align_items": null,
            "align_self": null,
            "border": null,
            "bottom": null,
            "display": null,
            "flex": null,
            "flex_flow": null,
            "grid_area": null,
            "grid_auto_columns": null,
            "grid_auto_flow": null,
            "grid_auto_rows": null,
            "grid_column": null,
            "grid_gap": null,
            "grid_row": null,
            "grid_template_areas": null,
            "grid_template_columns": null,
            "grid_template_rows": null,
            "height": null,
            "justify_content": null,
            "justify_items": null,
            "left": null,
            "margin": null,
            "max_height": null,
            "max_width": null,
            "min_height": null,
            "min_width": null,
            "object_fit": null,
            "object_position": null,
            "order": null,
            "overflow": null,
            "overflow_x": null,
            "overflow_y": null,
            "padding": null,
            "right": null,
            "top": null,
            "visibility": null,
            "width": null
          }
        },
        "64474d58e919475bb5d50b37f34a95ef": {
          "model_module": "@jupyter-widgets/controls",
          "model_name": "DescriptionStyleModel",
          "model_module_version": "1.5.0",
          "state": {
            "_model_module": "@jupyter-widgets/controls",
            "_model_module_version": "1.5.0",
            "_model_name": "DescriptionStyleModel",
            "_view_count": null,
            "_view_module": "@jupyter-widgets/base",
            "_view_module_version": "1.2.0",
            "_view_name": "StyleView",
            "description_width": ""
          }
        },
        "ed804b8d3f684f4f8664a44ad9b31390": {
          "model_module": "@jupyter-widgets/base",
          "model_name": "LayoutModel",
          "model_module_version": "1.2.0",
          "state": {
            "_model_module": "@jupyter-widgets/base",
            "_model_module_version": "1.2.0",
            "_model_name": "LayoutModel",
            "_view_count": null,
            "_view_module": "@jupyter-widgets/base",
            "_view_module_version": "1.2.0",
            "_view_name": "LayoutView",
            "align_content": null,
            "align_items": null,
            "align_self": null,
            "border": null,
            "bottom": null,
            "display": null,
            "flex": null,
            "flex_flow": null,
            "grid_area": null,
            "grid_auto_columns": null,
            "grid_auto_flow": null,
            "grid_auto_rows": null,
            "grid_column": null,
            "grid_gap": null,
            "grid_row": null,
            "grid_template_areas": null,
            "grid_template_columns": null,
            "grid_template_rows": null,
            "height": null,
            "justify_content": null,
            "justify_items": null,
            "left": null,
            "margin": null,
            "max_height": null,
            "max_width": null,
            "min_height": null,
            "min_width": null,
            "object_fit": null,
            "object_position": null,
            "order": null,
            "overflow": null,
            "overflow_x": null,
            "overflow_y": null,
            "padding": null,
            "right": null,
            "top": null,
            "visibility": null,
            "width": null
          }
        },
        "c9bbbc6554bf4794afaec9fd7a30e871": {
          "model_module": "@jupyter-widgets/controls",
          "model_name": "ProgressStyleModel",
          "model_module_version": "1.5.0",
          "state": {
            "_model_module": "@jupyter-widgets/controls",
            "_model_module_version": "1.5.0",
            "_model_name": "ProgressStyleModel",
            "_view_count": null,
            "_view_module": "@jupyter-widgets/base",
            "_view_module_version": "1.2.0",
            "_view_name": "StyleView",
            "bar_color": null,
            "description_width": ""
          }
        },
        "99b02f492fe14fb3a93fdad54f236200": {
          "model_module": "@jupyter-widgets/base",
          "model_name": "LayoutModel",
          "model_module_version": "1.2.0",
          "state": {
            "_model_module": "@jupyter-widgets/base",
            "_model_module_version": "1.2.0",
            "_model_name": "LayoutModel",
            "_view_count": null,
            "_view_module": "@jupyter-widgets/base",
            "_view_module_version": "1.2.0",
            "_view_name": "LayoutView",
            "align_content": null,
            "align_items": null,
            "align_self": null,
            "border": null,
            "bottom": null,
            "display": null,
            "flex": null,
            "flex_flow": null,
            "grid_area": null,
            "grid_auto_columns": null,
            "grid_auto_flow": null,
            "grid_auto_rows": null,
            "grid_column": null,
            "grid_gap": null,
            "grid_row": null,
            "grid_template_areas": null,
            "grid_template_columns": null,
            "grid_template_rows": null,
            "height": null,
            "justify_content": null,
            "justify_items": null,
            "left": null,
            "margin": null,
            "max_height": null,
            "max_width": null,
            "min_height": null,
            "min_width": null,
            "object_fit": null,
            "object_position": null,
            "order": null,
            "overflow": null,
            "overflow_x": null,
            "overflow_y": null,
            "padding": null,
            "right": null,
            "top": null,
            "visibility": null,
            "width": null
          }
        },
        "5df57a9a30834c959ffd8d1e0324bdd2": {
          "model_module": "@jupyter-widgets/controls",
          "model_name": "DescriptionStyleModel",
          "model_module_version": "1.5.0",
          "state": {
            "_model_module": "@jupyter-widgets/controls",
            "_model_module_version": "1.5.0",
            "_model_name": "DescriptionStyleModel",
            "_view_count": null,
            "_view_module": "@jupyter-widgets/base",
            "_view_module_version": "1.2.0",
            "_view_name": "StyleView",
            "description_width": ""
          }
        },
        "fedc95f8e706427bbff6c4ebff0008b3": {
          "model_module": "@jupyter-widgets/controls",
          "model_name": "HBoxModel",
          "model_module_version": "1.5.0",
          "state": {
            "_dom_classes": [],
            "_model_module": "@jupyter-widgets/controls",
            "_model_module_version": "1.5.0",
            "_model_name": "HBoxModel",
            "_view_count": null,
            "_view_module": "@jupyter-widgets/controls",
            "_view_module_version": "1.5.0",
            "_view_name": "HBoxView",
            "box_style": "",
            "children": [
              "IPY_MODEL_7125056383164395b340ff55684faebf",
              "IPY_MODEL_672bd2d4ef7d462fbf337038e41ffb43",
              "IPY_MODEL_601cc518c09441f38d930e1499347ddd"
            ],
            "layout": "IPY_MODEL_9b6c54310640422498654c2a62578ae9"
          }
        },
        "7125056383164395b340ff55684faebf": {
          "model_module": "@jupyter-widgets/controls",
          "model_name": "HTMLModel",
          "model_module_version": "1.5.0",
          "state": {
            "_dom_classes": [],
            "_model_module": "@jupyter-widgets/controls",
            "_model_module_version": "1.5.0",
            "_model_name": "HTMLModel",
            "_view_count": null,
            "_view_module": "@jupyter-widgets/controls",
            "_view_module_version": "1.5.0",
            "_view_name": "HTMLView",
            "description": "",
            "description_tooltip": null,
            "layout": "IPY_MODEL_b99babaffd824ee4baf7b9e3dc91f781",
            "placeholder": "​",
            "style": "IPY_MODEL_315db456e08849f995f67f981da12572",
            "value": "config.json: 100%"
          }
        },
        "672bd2d4ef7d462fbf337038e41ffb43": {
          "model_module": "@jupyter-widgets/controls",
          "model_name": "FloatProgressModel",
          "model_module_version": "1.5.0",
          "state": {
            "_dom_classes": [],
            "_model_module": "@jupyter-widgets/controls",
            "_model_module_version": "1.5.0",
            "_model_name": "FloatProgressModel",
            "_view_count": null,
            "_view_module": "@jupyter-widgets/controls",
            "_view_module_version": "1.5.0",
            "_view_name": "ProgressView",
            "bar_style": "success",
            "description": "",
            "description_tooltip": null,
            "layout": "IPY_MODEL_14bd2f6121094f65bd9fc5d1c4adf245",
            "max": 570,
            "min": 0,
            "orientation": "horizontal",
            "style": "IPY_MODEL_2528766218b849f8a156ec9cfad60dba",
            "value": 570
          }
        },
        "601cc518c09441f38d930e1499347ddd": {
          "model_module": "@jupyter-widgets/controls",
          "model_name": "HTMLModel",
          "model_module_version": "1.5.0",
          "state": {
            "_dom_classes": [],
            "_model_module": "@jupyter-widgets/controls",
            "_model_module_version": "1.5.0",
            "_model_name": "HTMLModel",
            "_view_count": null,
            "_view_module": "@jupyter-widgets/controls",
            "_view_module_version": "1.5.0",
            "_view_name": "HTMLView",
            "description": "",
            "description_tooltip": null,
            "layout": "IPY_MODEL_25523cae348546d7a22a16889612810f",
            "placeholder": "​",
            "style": "IPY_MODEL_878e6cf686d3407e8bdbfb27bba5bccf",
            "value": " 570/570 [00:00&lt;00:00, 35.4kB/s]"
          }
        },
        "9b6c54310640422498654c2a62578ae9": {
          "model_module": "@jupyter-widgets/base",
          "model_name": "LayoutModel",
          "model_module_version": "1.2.0",
          "state": {
            "_model_module": "@jupyter-widgets/base",
            "_model_module_version": "1.2.0",
            "_model_name": "LayoutModel",
            "_view_count": null,
            "_view_module": "@jupyter-widgets/base",
            "_view_module_version": "1.2.0",
            "_view_name": "LayoutView",
            "align_content": null,
            "align_items": null,
            "align_self": null,
            "border": null,
            "bottom": null,
            "display": null,
            "flex": null,
            "flex_flow": null,
            "grid_area": null,
            "grid_auto_columns": null,
            "grid_auto_flow": null,
            "grid_auto_rows": null,
            "grid_column": null,
            "grid_gap": null,
            "grid_row": null,
            "grid_template_areas": null,
            "grid_template_columns": null,
            "grid_template_rows": null,
            "height": null,
            "justify_content": null,
            "justify_items": null,
            "left": null,
            "margin": null,
            "max_height": null,
            "max_width": null,
            "min_height": null,
            "min_width": null,
            "object_fit": null,
            "object_position": null,
            "order": null,
            "overflow": null,
            "overflow_x": null,
            "overflow_y": null,
            "padding": null,
            "right": null,
            "top": null,
            "visibility": null,
            "width": null
          }
        },
        "b99babaffd824ee4baf7b9e3dc91f781": {
          "model_module": "@jupyter-widgets/base",
          "model_name": "LayoutModel",
          "model_module_version": "1.2.0",
          "state": {
            "_model_module": "@jupyter-widgets/base",
            "_model_module_version": "1.2.0",
            "_model_name": "LayoutModel",
            "_view_count": null,
            "_view_module": "@jupyter-widgets/base",
            "_view_module_version": "1.2.0",
            "_view_name": "LayoutView",
            "align_content": null,
            "align_items": null,
            "align_self": null,
            "border": null,
            "bottom": null,
            "display": null,
            "flex": null,
            "flex_flow": null,
            "grid_area": null,
            "grid_auto_columns": null,
            "grid_auto_flow": null,
            "grid_auto_rows": null,
            "grid_column": null,
            "grid_gap": null,
            "grid_row": null,
            "grid_template_areas": null,
            "grid_template_columns": null,
            "grid_template_rows": null,
            "height": null,
            "justify_content": null,
            "justify_items": null,
            "left": null,
            "margin": null,
            "max_height": null,
            "max_width": null,
            "min_height": null,
            "min_width": null,
            "object_fit": null,
            "object_position": null,
            "order": null,
            "overflow": null,
            "overflow_x": null,
            "overflow_y": null,
            "padding": null,
            "right": null,
            "top": null,
            "visibility": null,
            "width": null
          }
        },
        "315db456e08849f995f67f981da12572": {
          "model_module": "@jupyter-widgets/controls",
          "model_name": "DescriptionStyleModel",
          "model_module_version": "1.5.0",
          "state": {
            "_model_module": "@jupyter-widgets/controls",
            "_model_module_version": "1.5.0",
            "_model_name": "DescriptionStyleModel",
            "_view_count": null,
            "_view_module": "@jupyter-widgets/base",
            "_view_module_version": "1.2.0",
            "_view_name": "StyleView",
            "description_width": ""
          }
        },
        "14bd2f6121094f65bd9fc5d1c4adf245": {
          "model_module": "@jupyter-widgets/base",
          "model_name": "LayoutModel",
          "model_module_version": "1.2.0",
          "state": {
            "_model_module": "@jupyter-widgets/base",
            "_model_module_version": "1.2.0",
            "_model_name": "LayoutModel",
            "_view_count": null,
            "_view_module": "@jupyter-widgets/base",
            "_view_module_version": "1.2.0",
            "_view_name": "LayoutView",
            "align_content": null,
            "align_items": null,
            "align_self": null,
            "border": null,
            "bottom": null,
            "display": null,
            "flex": null,
            "flex_flow": null,
            "grid_area": null,
            "grid_auto_columns": null,
            "grid_auto_flow": null,
            "grid_auto_rows": null,
            "grid_column": null,
            "grid_gap": null,
            "grid_row": null,
            "grid_template_areas": null,
            "grid_template_columns": null,
            "grid_template_rows": null,
            "height": null,
            "justify_content": null,
            "justify_items": null,
            "left": null,
            "margin": null,
            "max_height": null,
            "max_width": null,
            "min_height": null,
            "min_width": null,
            "object_fit": null,
            "object_position": null,
            "order": null,
            "overflow": null,
            "overflow_x": null,
            "overflow_y": null,
            "padding": null,
            "right": null,
            "top": null,
            "visibility": null,
            "width": null
          }
        },
        "2528766218b849f8a156ec9cfad60dba": {
          "model_module": "@jupyter-widgets/controls",
          "model_name": "ProgressStyleModel",
          "model_module_version": "1.5.0",
          "state": {
            "_model_module": "@jupyter-widgets/controls",
            "_model_module_version": "1.5.0",
            "_model_name": "ProgressStyleModel",
            "_view_count": null,
            "_view_module": "@jupyter-widgets/base",
            "_view_module_version": "1.2.0",
            "_view_name": "StyleView",
            "bar_color": null,
            "description_width": ""
          }
        },
        "25523cae348546d7a22a16889612810f": {
          "model_module": "@jupyter-widgets/base",
          "model_name": "LayoutModel",
          "model_module_version": "1.2.0",
          "state": {
            "_model_module": "@jupyter-widgets/base",
            "_model_module_version": "1.2.0",
            "_model_name": "LayoutModel",
            "_view_count": null,
            "_view_module": "@jupyter-widgets/base",
            "_view_module_version": "1.2.0",
            "_view_name": "LayoutView",
            "align_content": null,
            "align_items": null,
            "align_self": null,
            "border": null,
            "bottom": null,
            "display": null,
            "flex": null,
            "flex_flow": null,
            "grid_area": null,
            "grid_auto_columns": null,
            "grid_auto_flow": null,
            "grid_auto_rows": null,
            "grid_column": null,
            "grid_gap": null,
            "grid_row": null,
            "grid_template_areas": null,
            "grid_template_columns": null,
            "grid_template_rows": null,
            "height": null,
            "justify_content": null,
            "justify_items": null,
            "left": null,
            "margin": null,
            "max_height": null,
            "max_width": null,
            "min_height": null,
            "min_width": null,
            "object_fit": null,
            "object_position": null,
            "order": null,
            "overflow": null,
            "overflow_x": null,
            "overflow_y": null,
            "padding": null,
            "right": null,
            "top": null,
            "visibility": null,
            "width": null
          }
        },
        "878e6cf686d3407e8bdbfb27bba5bccf": {
          "model_module": "@jupyter-widgets/controls",
          "model_name": "DescriptionStyleModel",
          "model_module_version": "1.5.0",
          "state": {
            "_model_module": "@jupyter-widgets/controls",
            "_model_module_version": "1.5.0",
            "_model_name": "DescriptionStyleModel",
            "_view_count": null,
            "_view_module": "@jupyter-widgets/base",
            "_view_module_version": "1.2.0",
            "_view_name": "StyleView",
            "description_width": ""
          }
        },
        "1114c86b338441c28bf9d4859dae0890": {
          "model_module": "@jupyter-widgets/controls",
          "model_name": "HBoxModel",
          "model_module_version": "1.5.0",
          "state": {
            "_dom_classes": [],
            "_model_module": "@jupyter-widgets/controls",
            "_model_module_version": "1.5.0",
            "_model_name": "HBoxModel",
            "_view_count": null,
            "_view_module": "@jupyter-widgets/controls",
            "_view_module_version": "1.5.0",
            "_view_name": "HBoxView",
            "box_style": "",
            "children": [
              "IPY_MODEL_8983902a7e824c7eb8005eea613d1602",
              "IPY_MODEL_ea3a601309654a4da6efa0157a7d02c8",
              "IPY_MODEL_e9c64082f4b54c92a57c8e11a2e42547"
            ],
            "layout": "IPY_MODEL_43c8e96dda4544a1a39c4890ede226b4"
          }
        },
        "8983902a7e824c7eb8005eea613d1602": {
          "model_module": "@jupyter-widgets/controls",
          "model_name": "HTMLModel",
          "model_module_version": "1.5.0",
          "state": {
            "_dom_classes": [],
            "_model_module": "@jupyter-widgets/controls",
            "_model_module_version": "1.5.0",
            "_model_name": "HTMLModel",
            "_view_count": null,
            "_view_module": "@jupyter-widgets/controls",
            "_view_module_version": "1.5.0",
            "_view_name": "HTMLView",
            "description": "",
            "description_tooltip": null,
            "layout": "IPY_MODEL_f925b92431ec46a5b824ea76a5df68a5",
            "placeholder": "​",
            "style": "IPY_MODEL_ac6534e4015d49c2b2eb9d24695e16d8",
            "value": "model.safetensors: 100%"
          }
        },
        "ea3a601309654a4da6efa0157a7d02c8": {
          "model_module": "@jupyter-widgets/controls",
          "model_name": "FloatProgressModel",
          "model_module_version": "1.5.0",
          "state": {
            "_dom_classes": [],
            "_model_module": "@jupyter-widgets/controls",
            "_model_module_version": "1.5.0",
            "_model_name": "FloatProgressModel",
            "_view_count": null,
            "_view_module": "@jupyter-widgets/controls",
            "_view_module_version": "1.5.0",
            "_view_name": "ProgressView",
            "bar_style": "success",
            "description": "",
            "description_tooltip": null,
            "layout": "IPY_MODEL_f1b6b5ff7bae437e84f2533b4683d835",
            "max": 440449768,
            "min": 0,
            "orientation": "horizontal",
            "style": "IPY_MODEL_2864c2b43ba543429d84c159e9a16d2f",
            "value": 440449768
          }
        },
        "e9c64082f4b54c92a57c8e11a2e42547": {
          "model_module": "@jupyter-widgets/controls",
          "model_name": "HTMLModel",
          "model_module_version": "1.5.0",
          "state": {
            "_dom_classes": [],
            "_model_module": "@jupyter-widgets/controls",
            "_model_module_version": "1.5.0",
            "_model_name": "HTMLModel",
            "_view_count": null,
            "_view_module": "@jupyter-widgets/controls",
            "_view_module_version": "1.5.0",
            "_view_name": "HTMLView",
            "description": "",
            "description_tooltip": null,
            "layout": "IPY_MODEL_178994e217cf4663969b32086b134ab4",
            "placeholder": "​",
            "style": "IPY_MODEL_ee950280549546fdaf9c966571361ce2",
            "value": " 440M/440M [00:07&lt;00:00, 51.6MB/s]"
          }
        },
        "43c8e96dda4544a1a39c4890ede226b4": {
          "model_module": "@jupyter-widgets/base",
          "model_name": "LayoutModel",
          "model_module_version": "1.2.0",
          "state": {
            "_model_module": "@jupyter-widgets/base",
            "_model_module_version": "1.2.0",
            "_model_name": "LayoutModel",
            "_view_count": null,
            "_view_module": "@jupyter-widgets/base",
            "_view_module_version": "1.2.0",
            "_view_name": "LayoutView",
            "align_content": null,
            "align_items": null,
            "align_self": null,
            "border": null,
            "bottom": null,
            "display": null,
            "flex": null,
            "flex_flow": null,
            "grid_area": null,
            "grid_auto_columns": null,
            "grid_auto_flow": null,
            "grid_auto_rows": null,
            "grid_column": null,
            "grid_gap": null,
            "grid_row": null,
            "grid_template_areas": null,
            "grid_template_columns": null,
            "grid_template_rows": null,
            "height": null,
            "justify_content": null,
            "justify_items": null,
            "left": null,
            "margin": null,
            "max_height": null,
            "max_width": null,
            "min_height": null,
            "min_width": null,
            "object_fit": null,
            "object_position": null,
            "order": null,
            "overflow": null,
            "overflow_x": null,
            "overflow_y": null,
            "padding": null,
            "right": null,
            "top": null,
            "visibility": null,
            "width": null
          }
        },
        "f925b92431ec46a5b824ea76a5df68a5": {
          "model_module": "@jupyter-widgets/base",
          "model_name": "LayoutModel",
          "model_module_version": "1.2.0",
          "state": {
            "_model_module": "@jupyter-widgets/base",
            "_model_module_version": "1.2.0",
            "_model_name": "LayoutModel",
            "_view_count": null,
            "_view_module": "@jupyter-widgets/base",
            "_view_module_version": "1.2.0",
            "_view_name": "LayoutView",
            "align_content": null,
            "align_items": null,
            "align_self": null,
            "border": null,
            "bottom": null,
            "display": null,
            "flex": null,
            "flex_flow": null,
            "grid_area": null,
            "grid_auto_columns": null,
            "grid_auto_flow": null,
            "grid_auto_rows": null,
            "grid_column": null,
            "grid_gap": null,
            "grid_row": null,
            "grid_template_areas": null,
            "grid_template_columns": null,
            "grid_template_rows": null,
            "height": null,
            "justify_content": null,
            "justify_items": null,
            "left": null,
            "margin": null,
            "max_height": null,
            "max_width": null,
            "min_height": null,
            "min_width": null,
            "object_fit": null,
            "object_position": null,
            "order": null,
            "overflow": null,
            "overflow_x": null,
            "overflow_y": null,
            "padding": null,
            "right": null,
            "top": null,
            "visibility": null,
            "width": null
          }
        },
        "ac6534e4015d49c2b2eb9d24695e16d8": {
          "model_module": "@jupyter-widgets/controls",
          "model_name": "DescriptionStyleModel",
          "model_module_version": "1.5.0",
          "state": {
            "_model_module": "@jupyter-widgets/controls",
            "_model_module_version": "1.5.0",
            "_model_name": "DescriptionStyleModel",
            "_view_count": null,
            "_view_module": "@jupyter-widgets/base",
            "_view_module_version": "1.2.0",
            "_view_name": "StyleView",
            "description_width": ""
          }
        },
        "f1b6b5ff7bae437e84f2533b4683d835": {
          "model_module": "@jupyter-widgets/base",
          "model_name": "LayoutModel",
          "model_module_version": "1.2.0",
          "state": {
            "_model_module": "@jupyter-widgets/base",
            "_model_module_version": "1.2.0",
            "_model_name": "LayoutModel",
            "_view_count": null,
            "_view_module": "@jupyter-widgets/base",
            "_view_module_version": "1.2.0",
            "_view_name": "LayoutView",
            "align_content": null,
            "align_items": null,
            "align_self": null,
            "border": null,
            "bottom": null,
            "display": null,
            "flex": null,
            "flex_flow": null,
            "grid_area": null,
            "grid_auto_columns": null,
            "grid_auto_flow": null,
            "grid_auto_rows": null,
            "grid_column": null,
            "grid_gap": null,
            "grid_row": null,
            "grid_template_areas": null,
            "grid_template_columns": null,
            "grid_template_rows": null,
            "height": null,
            "justify_content": null,
            "justify_items": null,
            "left": null,
            "margin": null,
            "max_height": null,
            "max_width": null,
            "min_height": null,
            "min_width": null,
            "object_fit": null,
            "object_position": null,
            "order": null,
            "overflow": null,
            "overflow_x": null,
            "overflow_y": null,
            "padding": null,
            "right": null,
            "top": null,
            "visibility": null,
            "width": null
          }
        },
        "2864c2b43ba543429d84c159e9a16d2f": {
          "model_module": "@jupyter-widgets/controls",
          "model_name": "ProgressStyleModel",
          "model_module_version": "1.5.0",
          "state": {
            "_model_module": "@jupyter-widgets/controls",
            "_model_module_version": "1.5.0",
            "_model_name": "ProgressStyleModel",
            "_view_count": null,
            "_view_module": "@jupyter-widgets/base",
            "_view_module_version": "1.2.0",
            "_view_name": "StyleView",
            "bar_color": null,
            "description_width": ""
          }
        },
        "178994e217cf4663969b32086b134ab4": {
          "model_module": "@jupyter-widgets/base",
          "model_name": "LayoutModel",
          "model_module_version": "1.2.0",
          "state": {
            "_model_module": "@jupyter-widgets/base",
            "_model_module_version": "1.2.0",
            "_model_name": "LayoutModel",
            "_view_count": null,
            "_view_module": "@jupyter-widgets/base",
            "_view_module_version": "1.2.0",
            "_view_name": "LayoutView",
            "align_content": null,
            "align_items": null,
            "align_self": null,
            "border": null,
            "bottom": null,
            "display": null,
            "flex": null,
            "flex_flow": null,
            "grid_area": null,
            "grid_auto_columns": null,
            "grid_auto_flow": null,
            "grid_auto_rows": null,
            "grid_column": null,
            "grid_gap": null,
            "grid_row": null,
            "grid_template_areas": null,
            "grid_template_columns": null,
            "grid_template_rows": null,
            "height": null,
            "justify_content": null,
            "justify_items": null,
            "left": null,
            "margin": null,
            "max_height": null,
            "max_width": null,
            "min_height": null,
            "min_width": null,
            "object_fit": null,
            "object_position": null,
            "order": null,
            "overflow": null,
            "overflow_x": null,
            "overflow_y": null,
            "padding": null,
            "right": null,
            "top": null,
            "visibility": null,
            "width": null
          }
        },
        "ee950280549546fdaf9c966571361ce2": {
          "model_module": "@jupyter-widgets/controls",
          "model_name": "DescriptionStyleModel",
          "model_module_version": "1.5.0",
          "state": {
            "_model_module": "@jupyter-widgets/controls",
            "_model_module_version": "1.5.0",
            "_model_name": "DescriptionStyleModel",
            "_view_count": null,
            "_view_module": "@jupyter-widgets/base",
            "_view_module_version": "1.2.0",
            "_view_name": "StyleView",
            "description_width": ""
          }
        }
      }
    }
  },
  "nbformat": 4,
  "nbformat_minor": 0
}